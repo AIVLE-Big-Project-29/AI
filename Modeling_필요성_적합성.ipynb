{
 "cells": [
  {
   "cell_type": "code",
   "execution_count": 37,
   "metadata": {
    "colab": {
     "base_uri": "https://localhost:8080/"
    },
    "executionInfo": {
     "elapsed": 18433,
     "status": "ok",
     "timestamp": 1720501278812,
     "user": {
      "displayName": "정성욱",
      "userId": "13921569270382965567"
     },
     "user_tz": -540
    },
    "id": "eCJcCSs_OWrc",
    "outputId": "9fc06531-98da-4ea3-b1be-9e08add4181b"
   },
   "outputs": [],
   "source": [
    "# from google.colab import drive\n",
    "# drive.mount('/content/drive')\n",
    "\n",
    "# path = '/content/drive/MyDrive/BigProject/data/'\n",
    "\n",
    "# import pandas as pd\n",
    "# import numpy as np\n",
    "\n",
    "# # row 생략 없이 출력\n",
    "# # pd.set_option('display.max_rows', None)\n",
    "# # col 생략 없이 출력\n",
    "# pd.set_option('display.max_columns', None)"
   ]
  },
  {
   "cell_type": "markdown",
   "metadata": {
    "id": "rwTBV1GM2-UB"
   },
   "source": [
    "### 불필요한 코드"
   ]
  },
  {
   "cell_type": "code",
   "execution_count": 38,
   "metadata": {
    "executionInfo": {
     "elapsed": 403,
     "status": "ok",
     "timestamp": 1720426272116,
     "user": {
      "displayName": "정성욱",
      "userId": "13921569270382965567"
     },
     "user_tz": -540
    },
    "id": "y1-c-TLNXJiR",
    "tags": []
   },
   "outputs": [],
   "source": [
    "df = pd.read_excel('전체 도시림 조성지.xlsx')\n",
    "import warnings\n",
    "\n",
    "# 모든 경고 메시지 무시하기\n",
    "warnings.filterwarnings(\"ignore\")"
   ]
  },
  {
   "cell_type": "code",
   "execution_count": 39,
   "metadata": {
    "colab": {
     "base_uri": "https://localhost:8080/",
     "height": 206
    },
    "executionInfo": {
     "elapsed": 394,
     "status": "ok",
     "timestamp": 1720426277220,
     "user": {
      "displayName": "정성욱",
      "userId": "13921569270382965567"
     },
     "user_tz": -540
    },
    "id": "bN8WKYPvZZtC",
    "outputId": "85bdf49e-32dc-456d-f55e-7b93361fa23e",
    "tags": []
   },
   "outputs": [
    {
     "data": {
      "text/html": [
       "<div>\n",
       "<style scoped>\n",
       "    .dataframe tbody tr th:only-of-type {\n",
       "        vertical-align: middle;\n",
       "    }\n",
       "\n",
       "    .dataframe tbody tr th {\n",
       "        vertical-align: top;\n",
       "    }\n",
       "\n",
       "    .dataframe thead th {\n",
       "        text-align: right;\n",
       "    }\n",
       "</style>\n",
       "<table border=\"1\" class=\"dataframe\">\n",
       "  <thead>\n",
       "    <tr style=\"text-align: right;\">\n",
       "      <th></th>\n",
       "      <th>구군</th>\n",
       "      <th>위치</th>\n",
       "    </tr>\n",
       "  </thead>\n",
       "  <tbody>\n",
       "    <tr>\n",
       "      <th>0</th>\n",
       "      <td>강서구</td>\n",
       "      <td>강서구 가락동</td>\n",
       "    </tr>\n",
       "    <tr>\n",
       "      <th>1</th>\n",
       "      <td>강서구</td>\n",
       "      <td>강서구 녹산동</td>\n",
       "    </tr>\n",
       "    <tr>\n",
       "      <th>2</th>\n",
       "      <td>강서구</td>\n",
       "      <td>강서구 녹산동</td>\n",
       "    </tr>\n",
       "    <tr>\n",
       "      <th>3</th>\n",
       "      <td>강서구</td>\n",
       "      <td>강서구 녹산동</td>\n",
       "    </tr>\n",
       "    <tr>\n",
       "      <th>4</th>\n",
       "      <td>강서구</td>\n",
       "      <td>강서구 녹산동</td>\n",
       "    </tr>\n",
       "  </tbody>\n",
       "</table>\n",
       "</div>"
      ],
      "text/plain": [
       "    구군       위치\n",
       "0  강서구  강서구 가락동\n",
       "1  강서구  강서구 녹산동\n",
       "2  강서구  강서구 녹산동\n",
       "3  강서구  강서구 녹산동\n",
       "4  강서구  강서구 녹산동"
      ]
     },
     "execution_count": 39,
     "metadata": {},
     "output_type": "execute_result"
    }
   ],
   "source": [
    "df.head()"
   ]
  },
  {
   "cell_type": "code",
   "execution_count": 40,
   "metadata": {
    "executionInfo": {
     "elapsed": 385,
     "status": "ok",
     "timestamp": 1720426289576,
     "user": {
      "displayName": "정성욱",
      "userId": "13921569270382965567"
     },
     "user_tz": -540
    },
    "id": "QS_EfoHJXTuW",
    "tags": []
   },
   "outputs": [],
   "source": [
    "li = df['위치'].unique()"
   ]
  },
  {
   "cell_type": "code",
   "execution_count": 41,
   "metadata": {
    "colab": {
     "base_uri": "https://localhost:8080/"
    },
    "executionInfo": {
     "elapsed": 3,
     "status": "ok",
     "timestamp": 1720426292066,
     "user": {
      "displayName": "정성욱",
      "userId": "13921569270382965567"
     },
     "user_tz": -540
    },
    "id": "H6X96u4CXVaV",
    "outputId": "c4db6e33-2759-41da-fe70-c9f669cc314b",
    "tags": []
   },
   "outputs": [
    {
     "data": {
      "text/plain": [
       "192"
      ]
     },
     "execution_count": 41,
     "metadata": {},
     "output_type": "execute_result"
    }
   ],
   "source": [
    "len(li)"
   ]
  },
  {
   "cell_type": "code",
   "execution_count": 42,
   "metadata": {
    "colab": {
     "base_uri": "https://localhost:8080/"
    },
    "executionInfo": {
     "elapsed": 453,
     "status": "ok",
     "timestamp": 1720425771931,
     "user": {
      "displayName": "정성욱",
      "userId": "13921569270382965567"
     },
     "user_tz": -540
    },
    "id": "sV0YrZlCXeg4",
    "outputId": "0dedde32-99f6-4333-dc51-d01a07731499",
    "tags": []
   },
   "outputs": [
    {
     "data": {
      "text/plain": [
       "array(['강서구 가락동', '강서구 녹산동', '강서구 강동동', '강서구 명지동', '강서구 대저2동',\n",
       "       '금정구 금사회동동', '금정구 구서1동', '금정구 구서2동', '금정구 부곡3동', '금정구 부곡2동',\n",
       "       '기장군 장안읍', '기장군 기장읍', '기장군 일광면', '동구 초량3동', '동구 범일2동', '동구 초량2동',\n",
       "       '동구 수정5동', '동구 좌천동', '동구 범일1동', '동구 수정1동', '동래구 온천2동', '동래구 사직3동',\n",
       "       '동래구 온천1동', '동래구 수민동', nan, '부산진구 부전1동', '부산진구 전포1동', '부산진구 가야1동',\n",
       "       '북구 구포3동', '북구 구포1동', '북구 화명2동', '북구 금곡동', '사상구 괘법동', '사상구 덕포2동',\n",
       "       '사하구 감천1동', '사하구 다대1동', '사하구 구평동~서구 암남동', '서구 서대신3동', '서구 서대신4동',\n",
       "       '수영구 광안3동', '수영구 수영동', '수영구 민락동', '연제구 연산5동', '중구 영주2동', '중구 영주동',\n",
       "       '중구 동광동', '중구 중앙동', '해운대구 반여4동', '해운대구 반송1동', '해운대구 중1동',\n",
       "       '해운대구 좌4동', '금정구 선두구동', '기장군 철마면', '기장군 정관읍', '남구 대연3동', '동래구 복산동',\n",
       "       '부산진구 초읍동', '북구 만덕2동', '사상구 덕포1동', '사하구 당리동', '사하구 괴정1동',\n",
       "       '사하구 괴정2동', '서구 암남동', '연제구 거제2동', '해운대구 중2동', '사상구 삼락동',\n",
       "       '사하구 감천2동', '영도구 동삼1동', '남구 우암동', '남구 용호1동', '남구 용호3동', '남구 대연5동',\n",
       "       '남구 문현1동', '사상구 주례1동', '사상구 주례2동', '사상구 주례3동', '사상구 감전동',\n",
       "       '부산진구 연지동', '부산진구 양정2동', '부산진구 양정1동', '부산진구 개금3동', '부산진구 개금2동',\n",
       "       '부산진구 가야2동', '부산진구 전포2동', '부산진구 당감4동', '사하구 괴정4동', '사하구 괴정3동',\n",
       "       '사하구 다대2동', '사하구 장림2동', '동구 수정2동', '동구 초량6동', '서구 동대신3동', '서구 부민동',\n",
       "       '서구 충무동', '서구 동대신1동', '서구 남부민1동', '서구 남부민2동', '서구 동대신2동', '서구 초장동',\n",
       "       '영도구 영선2동', '영도구 봉래2동', '영도구 남항동', '영도구 청학1동', '영도구 신선동',\n",
       "       '영도구 청학2동', '영도구 동삼2동', '영도구 동삼3동', '중구 대청동', '중구 보수동', '중구 영주1동',\n",
       "       '중구 광복동', '금정구 남산동', '남구 감만1동', '남구 감만2동', '남구 문현2동', '남구 문현3동',\n",
       "       '남구 문현4동', '남구 대연1동', '동구 수정3동', '부산진구 개금1동', '부산진구 범천2동',\n",
       "       '북구 화명3동', '사상구 모라1동', '사상구 학장동', '사하구 신평1동', '사하구 하단2동', '서구 아미동',\n",
       "       '수영구 광안4동', '수영구 남천1동', '수영구 망미1동', '수영구 광안1동', '해운대구 반송2동',\n",
       "       '해운대구 송정동', '강서구 대저1동', '남구 대연6동', '부산진구 부암1동', '북구 덕천2동',\n",
       "       '북구 구포2동', '수영구 남천2동', '수영구 망미2동', '연제구 연산2동', '해운대구 우2동',\n",
       "       '남구 용당동', '사상구 ', '부산진구 ', '동구 ', '사상구 주례동', '부산진구 개금동',\n",
       "       '부산진구 당감동', '부산진구 부암동', '강서구 명지1동', '금정구 장전1동 ~ 부곡3동',\n",
       "       '금정구 장전1동 ~ 구서1동', '동구 범일동', '동래구 사직2동', '동래구 안락동', '동래구 ',\n",
       "       '동래구 안락2동', '부산진구 당감2동', '부산진구 가야동', '부산진구 당감1동', '수영구 ',\n",
       "       '연제구 거제동', '연제구 연산9동', '연제구 ', '영도구 영선1동', '중구 부평동', '해운대구 ',\n",
       "       '금정구 ', '북구 화명동', '사하구 하단1동', '사하구 장림1동', '해운대구 반여동', '강서구 가덕도동',\n",
       "       '사하구 감천동', '사하구 ', '사하구 구평동', '사하구 다대동', '중구 남포동5가', '영도구 동삼동',\n",
       "       '영도구 ', '동래구 명장1동', '부산진구 부전2동', '사상구 엄궁동', '사하구 신평2동', '부산시 ',\n",
       "       '금정구 청룡노포동', '남구 용호4동', '동래구 온천3동', '수영구 광안2동', '연제구 연산4동',\n",
       "       '해운대구 우1동'], dtype=object)"
      ]
     },
     "execution_count": 42,
     "metadata": {},
     "output_type": "execute_result"
    }
   ],
   "source": [
    "li"
   ]
  },
  {
   "cell_type": "code",
   "execution_count": 43,
   "metadata": {
    "executionInfo": {
     "elapsed": 942,
     "status": "ok",
     "timestamp": 1720425817829,
     "user": {
      "displayName": "정성욱",
      "userId": "13921569270382965567"
     },
     "user_tz": -540
    },
    "id": "8MJvxBDPXk5a",
    "tags": []
   },
   "outputs": [],
   "source": [
    "df = pd.read_excel('통합데이터_최종.xlsx')"
   ]
  },
  {
   "cell_type": "code",
   "execution_count": 44,
   "metadata": {
    "colab": {
     "base_uri": "https://localhost:8080/"
    },
    "executionInfo": {
     "elapsed": 354,
     "status": "ok",
     "timestamp": 1720425905914,
     "user": {
      "displayName": "정성욱",
      "userId": "13921569270382965567"
     },
     "user_tz": -540
    },
    "id": "PDPbNbytXqFP",
    "outputId": "5567c958-dfb7-48fe-e654-1f77846950cf",
    "tags": []
   },
   "outputs": [
    {
     "data": {
      "text/plain": [
       "0      1\n",
       "1      1\n",
       "2      1\n",
       "3      1\n",
       "4      0\n",
       "      ..\n",
       "201    1\n",
       "202    1\n",
       "203    1\n",
       "204    0\n",
       "205    0\n",
       "Name: is_forest, Length: 206, dtype: int32"
      ]
     },
     "execution_count": 44,
     "metadata": {},
     "output_type": "execute_result"
    }
   ],
   "source": [
    "df['is_forest'] = np.where(df['동'].isin(li), 1, 0)\n",
    "df['is_forest']"
   ]
  },
  {
   "cell_type": "code",
   "execution_count": 45,
   "metadata": {
    "colab": {
     "base_uri": "https://localhost:8080/"
    },
    "executionInfo": {
     "elapsed": 422,
     "status": "ok",
     "timestamp": 1720425922535,
     "user": {
      "displayName": "정성욱",
      "userId": "13921569270382965567"
     },
     "user_tz": -540
    },
    "id": "tigSOM5gYBQH",
    "outputId": "cd3a9381-44aa-48a7-eade-9fbbbb565160",
    "tags": []
   },
   "outputs": [
    {
     "data": {
      "text/plain": [
       "is_forest\n",
       "1    160\n",
       "0     46\n",
       "Name: count, dtype: int64"
      ]
     },
     "execution_count": 45,
     "metadata": {},
     "output_type": "execute_result"
    }
   ],
   "source": [
    "df['is_forest'].value_counts()"
   ]
  },
  {
   "cell_type": "code",
   "execution_count": 46,
   "metadata": {
    "executionInfo": {
     "elapsed": 917,
     "status": "ok",
     "timestamp": 1720426044782,
     "user": {
      "displayName": "정성욱",
      "userId": "13921569270382965567"
     },
     "user_tz": -540
    },
    "id": "zem-IhFtYRVB"
   },
   "outputs": [],
   "source": [
    "# df.to_excel('통합데이터_타겟.xlsx', index=False)"
   ]
  },
  {
   "cell_type": "markdown",
   "metadata": {
    "id": "lIV42IaM3IfG"
   },
   "source": [
    "# 시작"
   ]
  },
  {
   "cell_type": "code",
   "execution_count": 47,
   "metadata": {
    "tags": []
   },
   "outputs": [],
   "source": [
    "import numpy as np\n",
    "import pandas as pd"
   ]
  },
  {
   "cell_type": "code",
   "execution_count": 48,
   "metadata": {
    "colab": {
     "base_uri": "https://localhost:8080/",
     "height": 799
    },
    "executionInfo": {
     "elapsed": 2113,
     "status": "ok",
     "timestamp": 1720501283660,
     "user": {
      "displayName": "정성욱",
      "userId": "13921569270382965567"
     },
     "user_tz": -540
    },
    "id": "XJZgYfpd23Gr",
    "outputId": "e1f449cf-c9e4-4f84-9ea1-1874f22f6117",
    "tags": []
   },
   "outputs": [
    {
     "data": {
      "text/html": [
       "<div>\n",
       "<style scoped>\n",
       "    .dataframe tbody tr th:only-of-type {\n",
       "        vertical-align: middle;\n",
       "    }\n",
       "\n",
       "    .dataframe tbody tr th {\n",
       "        vertical-align: top;\n",
       "    }\n",
       "\n",
       "    .dataframe thead th {\n",
       "        text-align: right;\n",
       "    }\n",
       "</style>\n",
       "<table border=\"1\" class=\"dataframe\">\n",
       "  <thead>\n",
       "    <tr style=\"text-align: right;\">\n",
       "      <th></th>\n",
       "      <th>동</th>\n",
       "      <th>면적</th>\n",
       "      <th>전</th>\n",
       "      <th>답</th>\n",
       "      <th>과수원</th>\n",
       "      <th>목장용지</th>\n",
       "      <th>임야</th>\n",
       "      <th>염전</th>\n",
       "      <th>대</th>\n",
       "      <th>공장용지</th>\n",
       "      <th>...</th>\n",
       "      <th>인구수_남</th>\n",
       "      <th>인구수_여</th>\n",
       "      <th>한국인</th>\n",
       "      <th>한국인_남</th>\n",
       "      <th>한국인_여</th>\n",
       "      <th>외국인</th>\n",
       "      <th>외국인_남</th>\n",
       "      <th>외국인_여</th>\n",
       "      <th>65세 이상 고령자</th>\n",
       "      <th>is_forest</th>\n",
       "    </tr>\n",
       "  </thead>\n",
       "  <tbody>\n",
       "    <tr>\n",
       "      <th>0</th>\n",
       "      <td>강서구 대저1동</td>\n",
       "      <td>17727660.8</td>\n",
       "      <td>1958007.0</td>\n",
       "      <td>4464878.0</td>\n",
       "      <td>4143.0</td>\n",
       "      <td>32293.0</td>\n",
       "      <td>4678.00</td>\n",
       "      <td>0.0</td>\n",
       "      <td>1877084.80</td>\n",
       "      <td>5621.0</td>\n",
       "      <td>...</td>\n",
       "      <td>3966</td>\n",
       "      <td>3147</td>\n",
       "      <td>6962</td>\n",
       "      <td>3861</td>\n",
       "      <td>3101</td>\n",
       "      <td>151</td>\n",
       "      <td>105</td>\n",
       "      <td>46</td>\n",
       "      <td>2135</td>\n",
       "      <td>1</td>\n",
       "    </tr>\n",
       "    <tr>\n",
       "      <th>1</th>\n",
       "      <td>강서구 대저2동</td>\n",
       "      <td>29250833.8</td>\n",
       "      <td>1381832.0</td>\n",
       "      <td>8779395.0</td>\n",
       "      <td>5444.0</td>\n",
       "      <td>180597.0</td>\n",
       "      <td>149.00</td>\n",
       "      <td>0.0</td>\n",
       "      <td>1942425.60</td>\n",
       "      <td>37682.6</td>\n",
       "      <td>...</td>\n",
       "      <td>4361</td>\n",
       "      <td>3380</td>\n",
       "      <td>7493</td>\n",
       "      <td>4145</td>\n",
       "      <td>3348</td>\n",
       "      <td>248</td>\n",
       "      <td>216</td>\n",
       "      <td>32</td>\n",
       "      <td>1631</td>\n",
       "      <td>1</td>\n",
       "    </tr>\n",
       "    <tr>\n",
       "      <th>2</th>\n",
       "      <td>강서구 강동동</td>\n",
       "      <td>18488440.3</td>\n",
       "      <td>1074405.2</td>\n",
       "      <td>10201936.7</td>\n",
       "      <td>8996.0</td>\n",
       "      <td>47171.0</td>\n",
       "      <td>25661.00</td>\n",
       "      <td>0.0</td>\n",
       "      <td>1349529.40</td>\n",
       "      <td>568.0</td>\n",
       "      <td>...</td>\n",
       "      <td>2644</td>\n",
       "      <td>2234</td>\n",
       "      <td>4707</td>\n",
       "      <td>2504</td>\n",
       "      <td>2203</td>\n",
       "      <td>171</td>\n",
       "      <td>140</td>\n",
       "      <td>31</td>\n",
       "      <td>1431</td>\n",
       "      <td>1</td>\n",
       "    </tr>\n",
       "    <tr>\n",
       "      <th>3</th>\n",
       "      <td>강서구 명지1동</td>\n",
       "      <td>7821967.8</td>\n",
       "      <td>600907.5</td>\n",
       "      <td>2203423.5</td>\n",
       "      <td>0.0</td>\n",
       "      <td>2812.5</td>\n",
       "      <td>387019.55</td>\n",
       "      <td>226.5</td>\n",
       "      <td>1445321.65</td>\n",
       "      <td>1258.0</td>\n",
       "      <td>...</td>\n",
       "      <td>21461</td>\n",
       "      <td>21395</td>\n",
       "      <td>42564</td>\n",
       "      <td>21331</td>\n",
       "      <td>21233</td>\n",
       "      <td>292</td>\n",
       "      <td>130</td>\n",
       "      <td>162</td>\n",
       "      <td>2962</td>\n",
       "      <td>1</td>\n",
       "    </tr>\n",
       "    <tr>\n",
       "      <th>4</th>\n",
       "      <td>강서구 명지2동</td>\n",
       "      <td>7821967.8</td>\n",
       "      <td>600907.5</td>\n",
       "      <td>2203423.5</td>\n",
       "      <td>0.0</td>\n",
       "      <td>2812.5</td>\n",
       "      <td>387019.55</td>\n",
       "      <td>226.5</td>\n",
       "      <td>1445321.65</td>\n",
       "      <td>1258.0</td>\n",
       "      <td>...</td>\n",
       "      <td>15281</td>\n",
       "      <td>15514</td>\n",
       "      <td>30605</td>\n",
       "      <td>15192</td>\n",
       "      <td>15413</td>\n",
       "      <td>190</td>\n",
       "      <td>89</td>\n",
       "      <td>101</td>\n",
       "      <td>1936</td>\n",
       "      <td>0</td>\n",
       "    </tr>\n",
       "  </tbody>\n",
       "</table>\n",
       "<p>5 rows × 50 columns</p>\n",
       "</div>"
      ],
      "text/plain": [
       "          동          면적          전           답     과수원      목장용지         임야  \\\n",
       "0  강서구 대저1동  17727660.8  1958007.0   4464878.0  4143.0   32293.0    4678.00   \n",
       "1  강서구 대저2동  29250833.8  1381832.0   8779395.0  5444.0  180597.0     149.00   \n",
       "2   강서구 강동동  18488440.3  1074405.2  10201936.7  8996.0   47171.0   25661.00   \n",
       "3  강서구 명지1동   7821967.8   600907.5   2203423.5     0.0    2812.5  387019.55   \n",
       "4  강서구 명지2동   7821967.8   600907.5   2203423.5     0.0    2812.5  387019.55   \n",
       "\n",
       "      염전           대     공장용지  ...  인구수_남  인구수_여    한국인  한국인_남  한국인_여  외국인  \\\n",
       "0    0.0  1877084.80   5621.0  ...   3966   3147   6962   3861   3101  151   \n",
       "1    0.0  1942425.60  37682.6  ...   4361   3380   7493   4145   3348  248   \n",
       "2    0.0  1349529.40    568.0  ...   2644   2234   4707   2504   2203  171   \n",
       "3  226.5  1445321.65   1258.0  ...  21461  21395  42564  21331  21233  292   \n",
       "4  226.5  1445321.65   1258.0  ...  15281  15514  30605  15192  15413  190   \n",
       "\n",
       "   외국인_남  외국인_여  65세 이상 고령자  is_forest  \n",
       "0    105     46        2135          1  \n",
       "1    216     32        1631          1  \n",
       "2    140     31        1431          1  \n",
       "3    130    162        2962          1  \n",
       "4     89    101        1936          0  \n",
       "\n",
       "[5 rows x 50 columns]"
      ]
     },
     "execution_count": 48,
     "metadata": {},
     "output_type": "execute_result"
    }
   ],
   "source": [
    "compatibility_df = pd.read_excel('통합데이터_적합성.xlsx')\n",
    "necessity_df = pd.read_excel('통합데이터_필요성.xlsx')\n",
    "target_df = pd.read_excel('통합데이터_타겟.xlsx')\n",
    "compatibility_df.head()\n"
   ]
  },
  {
   "cell_type": "markdown",
   "metadata": {
    "id": "9Rtog4lYFwG_"
   },
   "source": [
    "### EDA"
   ]
  },
  {
   "cell_type": "code",
   "execution_count": 49,
   "metadata": {
    "colab": {
     "base_uri": "https://localhost:8080/"
    },
    "executionInfo": {
     "elapsed": 362,
     "status": "ok",
     "timestamp": 1720488629152,
     "user": {
      "displayName": "정성욱",
      "userId": "13921569270382965567"
     },
     "user_tz": -540
    },
    "id": "oY0h0-xQFieg",
    "outputId": "e549794b-0da1-447e-b5fc-275d96eaec17",
    "tags": []
   },
   "outputs": [
    {
     "data": {
      "text/plain": [
       "면적            0.121098\n",
       "전             0.120611\n",
       "답             0.099619\n",
       "과수원           0.068595\n",
       "목장용지          0.091717\n",
       "임야            0.089210\n",
       "염전            0.037101\n",
       "대             0.119585\n",
       "공장용지          0.064781\n",
       "학교용지         -0.022746\n",
       "주차장           0.054598\n",
       "주유소용지         0.119564\n",
       "창고용지          0.114913\n",
       "도로            0.118838\n",
       "철도용지          0.125173\n",
       "하천            0.096661\n",
       "제방            0.080819\n",
       "구거            0.099618\n",
       "유지            0.101899\n",
       "양어장           0.064864\n",
       "수도용지          0.057351\n",
       "공원            0.066807\n",
       "체육용지          0.055571\n",
       "유원지           0.038319\n",
       "종교용지          0.066477\n",
       "사적지          -0.018389\n",
       "묘지            0.071828\n",
       "잡종지           0.082322\n",
       "광천지           0.080886\n",
       "공장 용지         0.070576\n",
       "학교 용지         0.086412\n",
       "주유소 용지        0.086998\n",
       "창고 용지         0.072267\n",
       "철도 용지         0.068169\n",
       "수도 용지         0.070094\n",
       "체육 용지         0.037449\n",
       "종교 용지         0.023347\n",
       "세대수           0.071254\n",
       "인구수           0.034355\n",
       "인구수_남         0.041412\n",
       "인구수_여         0.027416\n",
       "한국인           0.030992\n",
       "한국인_남         0.036371\n",
       "한국인_여         0.025773\n",
       "외국인           0.095245\n",
       "외국인_남         0.097145\n",
       "외국인_여         0.065116\n",
       "65세 이상 고령자    0.101554\n",
       "is_forest     1.000000\n",
       "Name: is_forest, dtype: float64"
      ]
     },
     "execution_count": 49,
     "metadata": {},
     "output_type": "execute_result"
    }
   ],
   "source": [
    "compatibility_temp = compatibility_df.drop(columns=['동'])\n",
    "compatibility_temp.corr()['is_forest']"
   ]
  },
  {
   "cell_type": "code",
   "execution_count": 50,
   "metadata": {
    "colab": {
     "base_uri": "https://localhost:8080/",
     "height": 363
    },
    "executionInfo": {
     "elapsed": 368,
     "status": "ok",
     "timestamp": 1720488828903,
     "user": {
      "displayName": "정성욱",
      "userId": "13921569270382965567"
     },
     "user_tz": -540
    },
    "id": "Bxl_QNs1HZ8v",
    "outputId": "6f2d0743-7c1c-4995-c78f-a9b55124f04b",
    "tags": []
   },
   "outputs": [
    {
     "data": {
      "text/html": [
       "<div>\n",
       "<style scoped>\n",
       "    .dataframe tbody tr th:only-of-type {\n",
       "        vertical-align: middle;\n",
       "    }\n",
       "\n",
       "    .dataframe tbody tr th {\n",
       "        vertical-align: top;\n",
       "    }\n",
       "\n",
       "    .dataframe thead th {\n",
       "        text-align: right;\n",
       "    }\n",
       "</style>\n",
       "<table border=\"1\" class=\"dataframe\">\n",
       "  <thead>\n",
       "    <tr style=\"text-align: right;\">\n",
       "      <th></th>\n",
       "      <th>is_forest</th>\n",
       "    </tr>\n",
       "  </thead>\n",
       "  <tbody>\n",
       "    <tr>\n",
       "      <th>면적</th>\n",
       "      <td>0.121098</td>\n",
       "    </tr>\n",
       "    <tr>\n",
       "      <th>전</th>\n",
       "      <td>0.120611</td>\n",
       "    </tr>\n",
       "    <tr>\n",
       "      <th>대</th>\n",
       "      <td>0.119585</td>\n",
       "    </tr>\n",
       "    <tr>\n",
       "      <th>주유소용지</th>\n",
       "      <td>0.119564</td>\n",
       "    </tr>\n",
       "    <tr>\n",
       "      <th>창고용지</th>\n",
       "      <td>0.114913</td>\n",
       "    </tr>\n",
       "    <tr>\n",
       "      <th>도로</th>\n",
       "      <td>0.118838</td>\n",
       "    </tr>\n",
       "    <tr>\n",
       "      <th>철도용지</th>\n",
       "      <td>0.125173</td>\n",
       "    </tr>\n",
       "    <tr>\n",
       "      <th>유지</th>\n",
       "      <td>0.101899</td>\n",
       "    </tr>\n",
       "    <tr>\n",
       "      <th>65세 이상 고령자</th>\n",
       "      <td>0.101554</td>\n",
       "    </tr>\n",
       "    <tr>\n",
       "      <th>is_forest</th>\n",
       "      <td>1.000000</td>\n",
       "    </tr>\n",
       "  </tbody>\n",
       "</table>\n",
       "</div>"
      ],
      "text/plain": [
       "            is_forest\n",
       "면적           0.121098\n",
       "전            0.120611\n",
       "대            0.119585\n",
       "주유소용지        0.119564\n",
       "창고용지         0.114913\n",
       "도로           0.118838\n",
       "철도용지         0.125173\n",
       "유지           0.101899\n",
       "65세 이상 고령자   0.101554\n",
       "is_forest    1.000000"
      ]
     },
     "execution_count": 50,
     "metadata": {},
     "output_type": "execute_result"
    }
   ],
   "source": [
    "compatibility_corr = pd.DataFrame(compatibility_temp.corr()['is_forest'])\n",
    "compatibility_corr.loc[(compatibility_corr['is_forest'] > 0.1) | (compatibility_corr['is_forest'] < -0.1)]"
   ]
  },
  {
   "cell_type": "code",
   "execution_count": 51,
   "metadata": {
    "colab": {
     "base_uri": "https://localhost:8080/"
    },
    "executionInfo": {
     "elapsed": 356,
     "status": "ok",
     "timestamp": 1720488850709,
     "user": {
      "displayName": "정성욱",
      "userId": "13921569270382965567"
     },
     "user_tz": -540
    },
    "id": "Vhhj8m_uGamn",
    "outputId": "657f7111-768b-47d0-9f1e-320e0cb9e40d",
    "tags": []
   },
   "outputs": [
    {
     "data": {
      "text/plain": [
       "BOD          0.089637\n",
       "COD          0.120140\n",
       "TOC          0.122768\n",
       "SS           0.101905\n",
       "DO           0.147185\n",
       "T-P          0.084621\n",
       "총대장균군        0.059058\n",
       "분원성대장균군      0.057114\n",
       "암모니아성질소      0.073887\n",
       "질산성질소        0.114387\n",
       "용존총질소        0.102218\n",
       "인산염인         0.079490\n",
       "용존총인         0.081879\n",
       "클로로필A        0.069230\n",
       "pH분류         0.085077\n",
       "수온분류        -0.037352\n",
       "전도분류         0.054437\n",
       "PM-2.5       0.018564\n",
       "PM-10       -0.013205\n",
       "오존           0.000631\n",
       "일산화탄소        0.087201\n",
       "일산화질소       -0.019020\n",
       "이산화황         0.146267\n",
       "소득          -0.258876\n",
       "평균_기온        0.237420\n",
       "최고_기온       -0.097139\n",
       "최저_기온        0.243826\n",
       "강수총계        -0.151105\n",
       "평균 풍속        0.282273\n",
       "최대 순간풍속      0.226894\n",
       "is_forest    1.000000\n",
       "Name: is_forest, dtype: float64"
      ]
     },
     "execution_count": 51,
     "metadata": {},
     "output_type": "execute_result"
    }
   ],
   "source": [
    "necessity_temp = necessity_df.drop(columns=['동'])\n",
    "necessity_temp.corr()['is_forest']"
   ]
  },
  {
   "cell_type": "code",
   "execution_count": 52,
   "metadata": {
    "colab": {
     "base_uri": "https://localhost:8080/",
     "height": 488
    },
    "executionInfo": {
     "elapsed": 5,
     "status": "ok",
     "timestamp": 1720488851796,
     "user": {
      "displayName": "정성욱",
      "userId": "13921569270382965567"
     },
     "user_tz": -540
    },
    "id": "4ZlqP_AHHrkp",
    "outputId": "9d4b1df8-81d1-4144-cc9e-1d9a3ba16021",
    "tags": []
   },
   "outputs": [
    {
     "data": {
      "text/html": [
       "<div>\n",
       "<style scoped>\n",
       "    .dataframe tbody tr th:only-of-type {\n",
       "        vertical-align: middle;\n",
       "    }\n",
       "\n",
       "    .dataframe tbody tr th {\n",
       "        vertical-align: top;\n",
       "    }\n",
       "\n",
       "    .dataframe thead th {\n",
       "        text-align: right;\n",
       "    }\n",
       "</style>\n",
       "<table border=\"1\" class=\"dataframe\">\n",
       "  <thead>\n",
       "    <tr style=\"text-align: right;\">\n",
       "      <th></th>\n",
       "      <th>is_forest</th>\n",
       "    </tr>\n",
       "  </thead>\n",
       "  <tbody>\n",
       "    <tr>\n",
       "      <th>COD</th>\n",
       "      <td>0.120140</td>\n",
       "    </tr>\n",
       "    <tr>\n",
       "      <th>TOC</th>\n",
       "      <td>0.122768</td>\n",
       "    </tr>\n",
       "    <tr>\n",
       "      <th>SS</th>\n",
       "      <td>0.101905</td>\n",
       "    </tr>\n",
       "    <tr>\n",
       "      <th>DO</th>\n",
       "      <td>0.147185</td>\n",
       "    </tr>\n",
       "    <tr>\n",
       "      <th>질산성질소</th>\n",
       "      <td>0.114387</td>\n",
       "    </tr>\n",
       "    <tr>\n",
       "      <th>용존총질소</th>\n",
       "      <td>0.102218</td>\n",
       "    </tr>\n",
       "    <tr>\n",
       "      <th>이산화황</th>\n",
       "      <td>0.146267</td>\n",
       "    </tr>\n",
       "    <tr>\n",
       "      <th>소득</th>\n",
       "      <td>-0.258876</td>\n",
       "    </tr>\n",
       "    <tr>\n",
       "      <th>평균_기온</th>\n",
       "      <td>0.237420</td>\n",
       "    </tr>\n",
       "    <tr>\n",
       "      <th>최저_기온</th>\n",
       "      <td>0.243826</td>\n",
       "    </tr>\n",
       "    <tr>\n",
       "      <th>강수총계</th>\n",
       "      <td>-0.151105</td>\n",
       "    </tr>\n",
       "    <tr>\n",
       "      <th>평균 풍속</th>\n",
       "      <td>0.282273</td>\n",
       "    </tr>\n",
       "    <tr>\n",
       "      <th>최대 순간풍속</th>\n",
       "      <td>0.226894</td>\n",
       "    </tr>\n",
       "    <tr>\n",
       "      <th>is_forest</th>\n",
       "      <td>1.000000</td>\n",
       "    </tr>\n",
       "  </tbody>\n",
       "</table>\n",
       "</div>"
      ],
      "text/plain": [
       "           is_forest\n",
       "COD         0.120140\n",
       "TOC         0.122768\n",
       "SS          0.101905\n",
       "DO          0.147185\n",
       "질산성질소       0.114387\n",
       "용존총질소       0.102218\n",
       "이산화황        0.146267\n",
       "소득         -0.258876\n",
       "평균_기온       0.237420\n",
       "최저_기온       0.243826\n",
       "강수총계       -0.151105\n",
       "평균 풍속       0.282273\n",
       "최대 순간풍속     0.226894\n",
       "is_forest   1.000000"
      ]
     },
     "execution_count": 52,
     "metadata": {},
     "output_type": "execute_result"
    }
   ],
   "source": [
    "necessity_corr = pd.DataFrame(necessity_temp.corr()['is_forest'])\n",
    "necessity_corr.loc[(necessity_corr['is_forest'] > 0.1) | (necessity_corr['is_forest'] < -0.1)]"
   ]
  },
  {
   "cell_type": "markdown",
   "metadata": {
    "id": "xRZhthAcFzX1"
   },
   "source": [
    "## 모델링(적합성)"
   ]
  },
  {
   "cell_type": "code",
   "execution_count": 53,
   "metadata": {
    "colab": {
     "base_uri": "https://localhost:8080/"
    },
    "executionInfo": {
     "elapsed": 342,
     "status": "ok",
     "timestamp": 1720485469762,
     "user": {
      "displayName": "정성욱",
      "userId": "13921569270382965567"
     },
     "user_tz": -540
    },
    "id": "89IfXWuc7GCC",
    "outputId": "b7a3bbb7-b74e-4f8f-b1c2-d1c7bb692d7f",
    "tags": []
   },
   "outputs": [
    {
     "data": {
      "text/plain": [
       "((206, 48), (206,))"
      ]
     },
     "execution_count": 53,
     "metadata": {},
     "output_type": "execute_result"
    }
   ],
   "source": [
    "X = compatibility_df.drop(columns=['동', 'is_forest'])\n",
    "y = compatibility_df.loc[:, 'is_forest']\n",
    "\n",
    "X.shape, y.shape"
   ]
  },
  {
   "cell_type": "code",
   "execution_count": 54,
   "metadata": {
    "colab": {
     "base_uri": "https://localhost:8080/"
    },
    "executionInfo": {
     "elapsed": 2106,
     "status": "ok",
     "timestamp": 1720485784219,
     "user": {
      "displayName": "정성욱",
      "userId": "13921569270382965567"
     },
     "user_tz": -540
    },
    "id": "j-aqUTHT5bMr",
    "outputId": "03ec0edd-c282-42c1-9d40-f638d9b0c6ff",
    "tags": []
   },
   "outputs": [
    {
     "name": "stdout",
     "output_type": "stream",
     "text": [
      "Logistic Regression: 0.7259 (0.0561)\n",
      "Decision Tree: 0.7504 (0.0857)\n",
      "Random Forest: 0.7564 (0.0654)\n",
      "SVM: 0.7744 (0.0140)\n",
      "KNN: 0.7500 (0.0484)\n"
     ]
    }
   ],
   "source": [
    "import numpy as np\n",
    "import pandas as pd\n",
    "from sklearn.model_selection import train_test_split, cross_val_score\n",
    "from sklearn.metrics import accuracy_score, classification_report, confusion_matrix\n",
    "from sklearn.preprocessing import StandardScaler\n",
    "from sklearn.pipeline import Pipeline\n",
    "\n",
    "# 여러 모델 import\n",
    "from sklearn.linear_model import LogisticRegression\n",
    "from sklearn.tree import DecisionTreeClassifier\n",
    "from sklearn.ensemble import RandomForestClassifier\n",
    "from sklearn.svm import SVC\n",
    "from sklearn.neighbors import KNeighborsClassifier\n",
    "\n",
    "X_train, X_test, y_train, y_test = train_test_split(X, y, test_size=0.2, random_state=24, stratify=y)\n",
    "\n",
    "models = [\n",
    "    ('Logistic Regression', LogisticRegression(max_iter=200)),\n",
    "    ('Decision Tree', DecisionTreeClassifier(max_depth=5)),\n",
    "    ('Random Forest', RandomForestClassifier(n_estimators=200, max_depth=5, random_state=24)),\n",
    "    ('SVM', SVC()),\n",
    "    ('KNN', KNeighborsClassifier(n_neighbors=5))\n",
    "]\n",
    "\n",
    "results = []\n",
    "names = []\n",
    "\n",
    "for name, model in models:\n",
    "    pipeline = Pipeline([\n",
    "        ('scaler', StandardScaler()),\n",
    "        ('classifier', model)\n",
    "    ])\n",
    "\n",
    "    cv_results = cross_val_score(pipeline, X_train, y_train, cv=5, scoring='accuracy')\n",
    "    results.append(cv_results)\n",
    "    names.append(name)\n",
    "    msg = f\"{name}: {cv_results.mean():.4f} ({cv_results.std():.4f})\"\n",
    "    print(msg)"
   ]
  },
  {
   "cell_type": "code",
   "execution_count": 55,
   "metadata": {
    "colab": {
     "base_uri": "https://localhost:8080/"
    },
    "executionInfo": {
     "elapsed": 335,
     "status": "ok",
     "timestamp": 1720488118412,
     "user": {
      "displayName": "정성욱",
      "userId": "13921569270382965567"
     },
     "user_tz": -540
    },
    "id": "-ZOaYJLNFMk8",
    "outputId": "ab76b740-ce0c-4487-9c77-e3a2d354af36",
    "tags": []
   },
   "outputs": [
    {
     "name": "stdout",
     "output_type": "stream",
     "text": [
      "              precision    recall  f1-score   support\n",
      "\n",
      "           0       0.00      0.00      0.00         9\n",
      "           1       0.79      1.00      0.88        33\n",
      "\n",
      "    accuracy                           0.79        42\n",
      "   macro avg       0.39      0.50      0.44        42\n",
      "weighted avg       0.62      0.79      0.69        42\n",
      "\n",
      "[[ 0  9]\n",
      " [ 0 33]]\n"
     ]
    },
    {
     "name": "stderr",
     "output_type": "stream",
     "text": [
      "C:\\Users\\User\\anaconda3\\Lib\\site-packages\\sklearn\\metrics\\_classification.py:1469: UndefinedMetricWarning: Precision and F-score are ill-defined and being set to 0.0 in labels with no predicted samples. Use `zero_division` parameter to control this behavior.\n",
      "  _warn_prf(average, modifier, msg_start, len(result))\n",
      "C:\\Users\\User\\anaconda3\\Lib\\site-packages\\sklearn\\metrics\\_classification.py:1469: UndefinedMetricWarning: Precision and F-score are ill-defined and being set to 0.0 in labels with no predicted samples. Use `zero_division` parameter to control this behavior.\n",
      "  _warn_prf(average, modifier, msg_start, len(result))\n",
      "C:\\Users\\User\\anaconda3\\Lib\\site-packages\\sklearn\\metrics\\_classification.py:1469: UndefinedMetricWarning: Precision and F-score are ill-defined and being set to 0.0 in labels with no predicted samples. Use `zero_division` parameter to control this behavior.\n",
      "  _warn_prf(average, modifier, msg_start, len(result))\n"
     ]
    }
   ],
   "source": [
    "model_svm = SVC()\n",
    "scaler = StandardScaler()\n",
    "X_train_scaled = scaler.fit_transform(X_train)\n",
    "X_test_scaled = scaler.transform(X_test)\n",
    "\n",
    "model_svm.fit(X_train_scaled, y_train)\n",
    "y_pred_svm = model_svm.predict(X_test_scaled)\n",
    "print(classification_report(y_test, y_pred_svm))\n",
    "print(confusion_matrix(y_test, y_pred_svm))"
   ]
  },
  {
   "cell_type": "code",
   "execution_count": 56,
   "metadata": {
    "colab": {
     "base_uri": "https://localhost:8080/"
    },
    "executionInfo": {
     "elapsed": 792,
     "status": "ok",
     "timestamp": 1720487974130,
     "user": {
      "displayName": "정성욱",
      "userId": "13921569270382965567"
     },
     "user_tz": -540
    },
    "id": "yc4oVHsj8PLg",
    "outputId": "4945d4c6-2871-4101-96b4-9269bde48214",
    "tags": []
   },
   "outputs": [
    {
     "name": "stdout",
     "output_type": "stream",
     "text": [
      "              precision    recall  f1-score   support\n",
      "\n",
      "           0       0.17      0.11      0.13         9\n",
      "           1       0.78      0.85      0.81        33\n",
      "\n",
      "    accuracy                           0.69        42\n",
      "   macro avg       0.47      0.48      0.47        42\n",
      "weighted avg       0.65      0.69      0.67        42\n",
      "\n",
      "[[ 1  8]\n",
      " [ 5 28]]\n"
     ]
    }
   ],
   "source": [
    "model_rf = RandomForestClassifier(n_estimators=200, max_depth=5, random_state=24)\n",
    "scaler = StandardScaler()\n",
    "X_train_scaled = scaler.fit_transform(X_train)\n",
    "X_test_scaled = scaler.transform(X_test)\n",
    "\n",
    "model_rf.fit(X_train_scaled, y_train)\n",
    "y_pred_rf = model_rf.predict(X_test_scaled)\n",
    "print(classification_report(y_test, y_pred_rf))\n",
    "print(confusion_matrix(y_test, y_pred_rf))"
   ]
  },
  {
   "cell_type": "code",
   "execution_count": 57,
   "metadata": {
    "colab": {
     "base_uri": "https://localhost:8080/"
    },
    "executionInfo": {
     "elapsed": 370,
     "status": "ok",
     "timestamp": 1720487994075,
     "user": {
      "displayName": "정성욱",
      "userId": "13921569270382965567"
     },
     "user_tz": -540
    },
    "id": "7iV74Iz3_lnM",
    "outputId": "7e0b35df-3b7b-4950-e070-9a55893aeb27",
    "tags": []
   },
   "outputs": [
    {
     "name": "stdout",
     "output_type": "stream",
     "text": [
      "              precision    recall  f1-score   support\n",
      "\n",
      "           0       0.22      0.22      0.22         9\n",
      "           1       0.79      0.79      0.79        33\n",
      "\n",
      "    accuracy                           0.67        42\n",
      "   macro avg       0.51      0.51      0.51        42\n",
      "weighted avg       0.67      0.67      0.67        42\n",
      "\n",
      "[[ 2  7]\n",
      " [ 7 26]]\n"
     ]
    }
   ],
   "source": [
    "model_knn = KNeighborsClassifier(n_neighbors=5)\n",
    "scaler = StandardScaler()\n",
    "X_train_scaled = scaler.fit_transform(X_train)\n",
    "X_test_scaled = scaler.transform(X_test)\n",
    "\n",
    "model_knn.fit(X_train_scaled, y_train)\n",
    "y_pred_knn = model_knn.predict(X_test_scaled)\n",
    "print(classification_report(y_test, y_pred_knn))\n",
    "print(confusion_matrix(y_test, y_pred_knn))"
   ]
  },
  {
   "cell_type": "code",
   "execution_count": 58,
   "metadata": {
    "colab": {
     "base_uri": "https://localhost:8080/"
    },
    "executionInfo": {
     "elapsed": 89660,
     "status": "ok",
     "timestamp": 1720491581274,
     "user": {
      "displayName": "정성욱",
      "userId": "13921569270382965567"
     },
     "user_tz": -540
    },
    "id": "RR6wf0RULV38",
    "outputId": "2d5bd4ee-8ba5-43c4-fe11-7a6863c8ed66",
    "tags": []
   },
   "outputs": [
    {
     "name": "stdout",
     "output_type": "stream",
     "text": [
      "Fitting 5 folds for each of 64 candidates, totalling 320 fits\n",
      "Best parameters found:  {'max_depth': 7, 'n_estimators': 50, 'random_state': 24}\n",
      "              precision    recall  f1-score   support\n",
      "\n",
      "           0       0.40      0.22      0.29         9\n",
      "           1       0.81      0.91      0.86        33\n",
      "\n",
      "    accuracy                           0.76        42\n",
      "   macro avg       0.61      0.57      0.57        42\n",
      "weighted avg       0.72      0.76      0.73        42\n",
      "\n",
      "[[ 2  7]\n",
      " [ 3 30]]\n"
     ]
    }
   ],
   "source": [
    "from sklearn.ensemble import RandomForestClassifier\n",
    "from sklearn.model_selection import GridSearchCV\n",
    "from sklearn.model_selection import train_test_split\n",
    "from sklearn.utils.class_weight import compute_class_weight\n",
    "\n",
    "# 클래스 가중치 계산\n",
    "class_weights = compute_class_weight(class_weight='balanced', classes=np.unique(y_train), y=y_train)\n",
    "class_weights_dict = {i : class_weights[i] for i in range(len(class_weights))}\n",
    "\n",
    "# RandomForestClassifier 모델 생성\n",
    "rf = RandomForestClassifier(class_weight=class_weights_dict)\n",
    "\n",
    "# 파라미터 그리드 설정\n",
    "param_grid = {\n",
    "    'max_depth': [3, 5, 7, 10],\n",
    "    'n_estimators': [50, 100, 200, 300],\n",
    "    'random_state': [24, 42, 52, 62]\n",
    "}\n",
    "\n",
    "# GridSearchCV 설정\n",
    "grid_search = GridSearchCV(estimator=rf, param_grid=param_grid, cv=5, n_jobs=-1, verbose=2)\n",
    "\n",
    "# 모델 학습\n",
    "grid_search.fit(X_train_scaled, y_train)\n",
    "\n",
    "# 최적의 파라미터 출력\n",
    "print(\"Best parameters found: \", grid_search.best_params_)\n",
    "\n",
    "# 최적의 모델로 예측 및 평가\n",
    "best_rf = grid_search.best_estimator_\n",
    "y_pred_best_rf = best_rf.predict(X_test_scaled)\n",
    "\n",
    "# 평가 결과 출력\n",
    "print(classification_report(y_test, y_pred_best_rf))\n",
    "print(confusion_matrix(y_test, y_pred_best_rf))"
   ]
  },
  {
   "cell_type": "code",
   "execution_count": 59,
   "metadata": {
    "colab": {
     "base_uri": "https://localhost:8080/"
    },
    "executionInfo": {
     "elapsed": 33603,
     "status": "ok",
     "timestamp": 1720491822199,
     "user": {
      "displayName": "정성욱",
      "userId": "13921569270382965567"
     },
     "user_tz": -540
    },
    "id": "KCOwj8xvTDGz",
    "outputId": "105cc369-3431-4f14-abeb-d6f729cee0ca"
   },
   "outputs": [
    {
     "name": "stdout",
     "output_type": "stream",
     "text": [
      "Fitting 5 folds for each of 75 candidates, totalling 375 fits\n",
      "Best parameters found:  {'max_depth': 7, 'n_estimators': 50, 'random_state': 24}\n",
      "              precision    recall  f1-score   support\n",
      "\n",
      "           0       0.40      0.22      0.29         9\n",
      "           1       0.81      0.91      0.86        33\n",
      "\n",
      "    accuracy                           0.76        42\n",
      "   macro avg       0.61      0.57      0.57        42\n",
      "weighted avg       0.72      0.76      0.73        42\n",
      "\n",
      "[[ 2  7]\n",
      " [ 3 30]]\n"
     ]
    }
   ],
   "source": [
    "rf = RandomForestClassifier(class_weight=class_weights_dict)\n",
    "\n",
    "# 파라미터 그리드 설정\n",
    "param_grid = {\n",
    "    'max_depth': [6, 7, 8],\n",
    "    'n_estimators': [40, 45, 50, 55, 60],\n",
    "    'random_state': [22, 23, 24, 25, 26]\n",
    "}\n",
    "\n",
    "# GridSearchCV 설정\n",
    "grid_search = GridSearchCV(estimator=rf, param_grid=param_grid, cv=5, n_jobs=-1, verbose=2)\n",
    "\n",
    "# 모델 학습\n",
    "grid_search.fit(X_train_scaled, y_train)\n",
    "\n",
    "# 최적의 파라미터 출력\n",
    "print(\"Best parameters found: \", grid_search.best_params_)\n",
    "\n",
    "# 최적의 모델로 예측 및 평가\n",
    "best_rf = grid_search.best_estimator_\n",
    "y_pred_best_rf = best_rf.predict(X_test_scaled)\n",
    "\n",
    "# 평가 결과 출력\n",
    "print(classification_report(y_test, y_pred_best_rf))\n",
    "print(confusion_matrix(y_test, y_pred_best_rf))"
   ]
  },
  {
   "cell_type": "code",
   "execution_count": 60,
   "metadata": {
    "colab": {
     "base_uri": "https://localhost:8080/"
    },
    "executionInfo": {
     "elapsed": 7163,
     "status": "ok",
     "timestamp": 1720491925545,
     "user": {
      "displayName": "정성욱",
      "userId": "13921569270382965567"
     },
     "user_tz": -540
    },
    "id": "pAOGL4dwTf4B",
    "outputId": "28d4b60e-8e3c-4750-f796-1e731ee88004"
   },
   "outputs": [
    {
     "name": "stdout",
     "output_type": "stream",
     "text": [
      "Fitting 5 folds for each of 10 candidates, totalling 50 fits\n",
      "Best parameters found:  {'n_estimators': 54}\n",
      "              precision    recall  f1-score   support\n",
      "\n",
      "           0       0.50      0.33      0.40         9\n",
      "           1       0.83      0.91      0.87        33\n",
      "\n",
      "    accuracy                           0.79        42\n",
      "   macro avg       0.67      0.62      0.63        42\n",
      "weighted avg       0.76      0.79      0.77        42\n",
      "\n",
      "[[ 3  6]\n",
      " [ 3 30]]\n"
     ]
    }
   ],
   "source": [
    "rf = RandomForestClassifier(class_weight=class_weights_dict, max_depth=7, random_state=24)\n",
    "\n",
    "# 파라미터 그리드 설정\n",
    "param_grid = {\n",
    "    'n_estimators': range(46, 56)\n",
    "}\n",
    "\n",
    "# GridSearchCV 설정\n",
    "grid_search = GridSearchCV(estimator=rf, param_grid=param_grid, cv=5, n_jobs=-1, verbose=2)\n",
    "\n",
    "# 모델 학습\n",
    "grid_search.fit(X_train_scaled, y_train)\n",
    "\n",
    "# 최적의 파라미터 출력\n",
    "print(\"Best parameters found: \", grid_search.best_params_)\n",
    "\n",
    "# 최적의 모델로 예측 및 평가\n",
    "best_rf = grid_search.best_estimator_\n",
    "y_pred_best_rf = best_rf.predict(X_test_scaled)\n",
    "\n",
    "# 평가 결과 출력\n",
    "print(classification_report(y_test, y_pred_best_rf))\n",
    "print(confusion_matrix(y_test, y_pred_best_rf))"
   ]
  },
  {
   "cell_type": "markdown",
   "metadata": {
    "id": "1zOEJxVxt81Q"
   },
   "source": [
    "## 적합성 최종모델"
   ]
  },
  {
   "cell_type": "markdown",
   "metadata": {
    "id": "rJXnMIfWT8Jo"
   },
   "source": [
    "- best_params : max_depth = 7, random_state = 24, n_estimators=54"
   ]
  },
  {
   "cell_type": "code",
   "execution_count": 61,
   "metadata": {
    "colab": {
     "base_uri": "https://localhost:8080/"
    },
    "executionInfo": {
     "elapsed": 374,
     "status": "ok",
     "timestamp": 1720501309704,
     "user": {
      "displayName": "정성욱",
      "userId": "13921569270382965567"
     },
     "user_tz": -540
    },
    "id": "h21Mbjfqt7DY",
    "outputId": "64a1ddbb-5e7d-44d8-9f2e-d96ce1996ae2"
   },
   "outputs": [
    {
     "name": "stdout",
     "output_type": "stream",
     "text": [
      "              precision    recall  f1-score   support\n",
      "\n",
      "           0       0.50      0.33      0.40         9\n",
      "           1       0.83      0.91      0.87        33\n",
      "\n",
      "    accuracy                           0.79        42\n",
      "   macro avg       0.67      0.62      0.63        42\n",
      "weighted avg       0.76      0.79      0.77        42\n",
      "\n",
      "[[ 3  6]\n",
      " [ 3 30]]\n"
     ]
    }
   ],
   "source": [
    "import numpy as np\n",
    "import pandas as pd\n",
    "from sklearn.model_selection import train_test_split, cross_val_score\n",
    "from sklearn.metrics import classification_report, confusion_matrix\n",
    "from sklearn.preprocessing import StandardScaler\n",
    "from sklearn.pipeline import Pipeline\n",
    "from sklearn.ensemble import RandomForestClassifier\n",
    "from sklearn.utils.class_weight import compute_class_weight\n",
    "\n",
    "X = compatibility_df.drop(columns=['동', 'is_forest'])\n",
    "y = compatibility_df.loc[:, 'is_forest']\n",
    "\n",
    "X_train, X_test, y_train, y_test = train_test_split(X, y, test_size=0.2, random_state=24, stratify=y)\n",
    "\n",
    "scaler = StandardScaler()\n",
    "X_train_scaled = scaler.fit_transform(X_train)\n",
    "X_test_scaled = scaler.transform(X_test)\n",
    "\n",
    "# 클래스 가중치 계산\n",
    "class_weights = compute_class_weight(class_weight='balanced', classes=np.unique(y_train), y=y_train)\n",
    "class_weights_dict = {i : class_weights[i] for i in range(len(class_weights))}\n",
    "\n",
    "compatibility_model = RandomForestClassifier(class_weight=class_weights_dict,n_estimators=54, max_depth=7, random_state=24)\n",
    "compatibility_model.fit(X_train_scaled, y_train)\n",
    "y_pred_compatibility = compatibility_model.predict(X_test_scaled)\n",
    "\n",
    "# 평가 결과 출력\n",
    "print(classification_report(y_test, y_pred_compatibility))\n",
    "print(confusion_matrix(y_test, y_pred_compatibility))"
   ]
  },
  {
   "cell_type": "code",
   "execution_count": 62,
   "metadata": {
    "colab": {
     "base_uri": "https://localhost:8080/"
    },
    "executionInfo": {
     "elapsed": 363,
     "status": "ok",
     "timestamp": 1720501316534,
     "user": {
      "displayName": "정성욱",
      "userId": "13921569270382965567"
     },
     "user_tz": -540
    },
    "id": "O1GsXnPrtthq",
    "outputId": "0b3b8124-e063-4f32-946c-b832b0ea613b"
   },
   "outputs": [
    {
     "name": "stdout",
     "output_type": "stream",
     "text": [
      "필요성: 92.59%\n",
      "필요성: 77.78%\n",
      "필요성: 79.63%\n",
      "필요성: 55.56%\n",
      "필요성: 100.0%\n",
      "필요성: 79.63%\n",
      "필요성: 94.44%\n",
      "필요성: 92.59%\n",
      "필요성: 92.59%\n",
      "필요성: 100.0%\n",
      "필요성: 79.63%\n",
      "필요성: 83.33%\n",
      "필요성: 85.19%\n",
      "필요성: 90.74%\n",
      "필요성: 42.59%\n",
      "필요성: 53.7%\n",
      "필요성: 81.48%\n",
      "필요성: 70.37%\n",
      "필요성: 81.48%\n",
      "필요성: 37.04%\n",
      "필요성: 88.89%\n",
      "필요성: 88.89%\n",
      "필요성: 94.44%\n",
      "필요성: 22.22%\n",
      "필요성: 62.96%\n",
      "필요성: 85.19%\n",
      "필요성: 88.89%\n",
      "필요성: 96.3%\n",
      "필요성: 66.67%\n",
      "필요성: 83.33%\n",
      "필요성: 87.04%\n",
      "필요성: 75.93%\n",
      "필요성: 77.78%\n",
      "필요성: 94.44%\n",
      "필요성: 62.96%\n",
      "필요성: 46.3%\n",
      "필요성: 87.04%\n",
      "필요성: 53.7%\n",
      "필요성: 74.07%\n",
      "필요성: 33.33%\n",
      "필요성: 50.0%\n",
      "필요성: 11.11%\n"
     ]
    }
   ],
   "source": [
    "# 각 트리의 예측값을 확인\n",
    "predictions = []\n",
    "for test in X_test_scaled:\n",
    "    predictions.append(np.array([tree.predict([test]) for tree in compatibility_model.estimators_]))\n",
    "\n",
    "li_comp = []\n",
    "# 0과 1의 개수 세기\n",
    "for prediction in predictions:\n",
    "    num_ones = np.sum(prediction == 1)\n",
    "    print(f\"필요성: {round(num_ones / 54 * 100, 2)}%\")\n",
    "    li_comp.append(round(num_ones / 54 * 100, 2))"
   ]
  },
  {
   "cell_type": "markdown",
   "metadata": {
    "id": "h1GKstUJUi-T"
   },
   "source": [
    "## 모델링(필요성)"
   ]
  },
  {
   "cell_type": "code",
   "execution_count": 63,
   "metadata": {
    "colab": {
     "base_uri": "https://localhost:8080/"
    },
    "executionInfo": {
     "elapsed": 402,
     "status": "ok",
     "timestamp": 1720492163052,
     "user": {
      "displayName": "정성욱",
      "userId": "13921569270382965567"
     },
     "user_tz": -540
    },
    "id": "St3pJcLLT7cH",
    "outputId": "8224acca-326a-416a-fccb-e1c51af0faf7"
   },
   "outputs": [
    {
     "data": {
      "text/plain": [
       "((206, 30), (206,))"
      ]
     },
     "execution_count": 63,
     "metadata": {},
     "output_type": "execute_result"
    }
   ],
   "source": [
    "X = necessity_df.drop(columns=['동', 'is_forest'])\n",
    "y = necessity_df.loc[:, 'is_forest']\n",
    "\n",
    "X.shape, y.shape"
   ]
  },
  {
   "cell_type": "code",
   "execution_count": 64,
   "metadata": {
    "colab": {
     "base_uri": "https://localhost:8080/"
    },
    "executionInfo": {
     "elapsed": 2371,
     "status": "ok",
     "timestamp": 1720492199285,
     "user": {
      "displayName": "정성욱",
      "userId": "13921569270382965567"
     },
     "user_tz": -540
    },
    "id": "MK0-QOvcUvyK",
    "outputId": "269ea9f1-feaf-401f-fa14-2fd98f604e96"
   },
   "outputs": [
    {
     "name": "stdout",
     "output_type": "stream",
     "text": [
      "Logistic Regression: 0.7684 (0.0406)\n",
      "Decision Tree: 0.7559 (0.0615)\n",
      "Random Forest: 0.7744 (0.0305)\n",
      "SVM: 0.7684 (0.0234)\n",
      "KNN: 0.7561 (0.0470)\n"
     ]
    }
   ],
   "source": [
    "import numpy as np\n",
    "import pandas as pd\n",
    "from sklearn.model_selection import train_test_split, cross_val_score\n",
    "from sklearn.metrics import accuracy_score, classification_report, confusion_matrix\n",
    "from sklearn.preprocessing import StandardScaler\n",
    "from sklearn.pipeline import Pipeline\n",
    "\n",
    "# 여러 모델 import\n",
    "from sklearn.linear_model import LogisticRegression\n",
    "from sklearn.tree import DecisionTreeClassifier\n",
    "from sklearn.ensemble import RandomForestClassifier\n",
    "from sklearn.svm import SVC\n",
    "from sklearn.neighbors import KNeighborsClassifier\n",
    "\n",
    "X_train, X_test, y_train, y_test = train_test_split(X, y, test_size=0.2, random_state=24, stratify=y)\n",
    "\n",
    "models = [\n",
    "    ('Logistic Regression', LogisticRegression(max_iter=200)),\n",
    "    ('Decision Tree', DecisionTreeClassifier(max_depth=5)),\n",
    "    ('Random Forest', RandomForestClassifier(n_estimators=200, max_depth=5, random_state=24)),\n",
    "    ('SVM', SVC()),\n",
    "    ('KNN', KNeighborsClassifier(n_neighbors=5))\n",
    "]\n",
    "\n",
    "results = []\n",
    "names = []\n",
    "\n",
    "for name, model in models:\n",
    "    pipeline = Pipeline([\n",
    "        ('scaler', StandardScaler()),\n",
    "        ('classifier', model)\n",
    "    ])\n",
    "\n",
    "    cv_results = cross_val_score(pipeline, X_train, y_train, cv=5, scoring='accuracy')\n",
    "    results.append(cv_results)\n",
    "    names.append(name)\n",
    "    msg = f\"{name}: {cv_results.mean():.4f} ({cv_results.std():.4f})\"\n",
    "    print(msg)"
   ]
  },
  {
   "cell_type": "code",
   "execution_count": 65,
   "metadata": {
    "colab": {
     "base_uri": "https://localhost:8080/"
    },
    "executionInfo": {
     "elapsed": 83179,
     "status": "ok",
     "timestamp": 1720492568309,
     "user": {
      "displayName": "정성욱",
      "userId": "13921569270382965567"
     },
     "user_tz": -540
    },
    "id": "18Gl9fpOU4Ji",
    "outputId": "f4ea9c71-7746-4766-a1ef-cddcd3a98b4b"
   },
   "outputs": [
    {
     "name": "stdout",
     "output_type": "stream",
     "text": [
      "Fitting 5 folds for each of 64 candidates, totalling 320 fits\n",
      "Best parameters found:  {'max_depth': 3, 'n_estimators': 200, 'random_state': 42}\n",
      "              precision    recall  f1-score   support\n",
      "\n",
      "           0       0.40      0.44      0.42         9\n",
      "           1       0.84      0.82      0.83        33\n",
      "\n",
      "    accuracy                           0.74        42\n",
      "   macro avg       0.62      0.63      0.63        42\n",
      "weighted avg       0.75      0.74      0.74        42\n",
      "\n",
      "[[ 4  5]\n",
      " [ 6 27]]\n"
     ]
    }
   ],
   "source": [
    "from sklearn.ensemble import RandomForestClassifier\n",
    "from sklearn.model_selection import GridSearchCV\n",
    "from sklearn.model_selection import train_test_split\n",
    "from sklearn.utils.class_weight import compute_class_weight\n",
    "\n",
    "X_train_scaled = scaler.fit_transform(X_train)\n",
    "X_test_scaled = scaler.transform(X_test)\n",
    "\n",
    "# 클래스 가중치 계산\n",
    "class_weights = compute_class_weight(class_weight='balanced', classes=np.unique(y_train), y=y_train)\n",
    "class_weights_dict = {i : class_weights[i] for i in range(len(class_weights))}\n",
    "\n",
    "# RandomForestClassifier 모델 생성\n",
    "rf = RandomForestClassifier(class_weight=class_weights_dict)\n",
    "\n",
    "# 파라미터 그리드 설정\n",
    "param_grid = {\n",
    "    'max_depth': [3, 5, 7, 10],\n",
    "    'n_estimators': [50, 100, 200, 300],\n",
    "    'random_state': [24, 42, 52, 62]\n",
    "}\n",
    "\n",
    "# GridSearchCV 설정\n",
    "grid_search = GridSearchCV(estimator=rf, param_grid=param_grid, cv=5, n_jobs=-1, verbose=2)\n",
    "\n",
    "# 모델 학습\n",
    "grid_search.fit(X_train_scaled, y_train)\n",
    "\n",
    "# 최적의 파라미터 출력\n",
    "print(\"Best parameters found: \", grid_search.best_params_)\n",
    "\n",
    "# 최적의 모델로 예측 및 평가\n",
    "best_rf = grid_search.best_estimator_\n",
    "y_pred_best_rf = best_rf.predict(X_test_scaled)\n",
    "\n",
    "# 평가 결과 출력\n",
    "print(classification_report(y_test, y_pred_best_rf))\n",
    "print(confusion_matrix(y_test, y_pred_best_rf))"
   ]
  },
  {
   "cell_type": "code",
   "execution_count": 66,
   "metadata": {
    "colab": {
     "base_uri": "https://localhost:8080/"
    },
    "executionInfo": {
     "elapsed": 6172,
     "status": "ok",
     "timestamp": 1720493053613,
     "user": {
      "displayName": "정성욱",
      "userId": "13921569270382965567"
     },
     "user_tz": -540
    },
    "id": "ttlwKhM4VHD7",
    "outputId": "b2669bbf-8aa0-4f01-95b9-1efabb3fd0e8"
   },
   "outputs": [
    {
     "name": "stdout",
     "output_type": "stream",
     "text": [
      "Fitting 5 folds for each of 7 candidates, totalling 35 fits\n",
      "Best parameters found:  {'n_estimators': 121}\n",
      "              precision    recall  f1-score   support\n",
      "\n",
      "           0       0.40      0.44      0.42         9\n",
      "           1       0.84      0.82      0.83        33\n",
      "\n",
      "    accuracy                           0.74        42\n",
      "   macro avg       0.62      0.63      0.63        42\n",
      "weighted avg       0.75      0.74      0.74        42\n",
      "\n",
      "[[ 4  5]\n",
      " [ 6 27]]\n"
     ]
    }
   ],
   "source": [
    "rf = RandomForestClassifier(class_weight=class_weights_dict, max_depth=3, random_state=42)\n",
    "\n",
    "# 파라미터 그리드 설정\n",
    "param_grid = {\n",
    "    'n_estimators': range(120, 127),\n",
    "}\n",
    "\n",
    "# GridSearchCV 설정\n",
    "grid_search = GridSearchCV(estimator=rf, param_grid=param_grid, cv=5, n_jobs=-1, verbose=2)\n",
    "\n",
    "# 모델 학습\n",
    "grid_search.fit(X_train_scaled, y_train)\n",
    "\n",
    "# 최적의 파라미터 출력\n",
    "print(\"Best parameters found: \", grid_search.best_params_)\n",
    "\n",
    "# 최적의 모델로 예측 및 평가\n",
    "best_rf = grid_search.best_estimator_\n",
    "y_pred_best_rf = best_rf.predict(X_test_scaled)\n",
    "\n",
    "# 평가 결과 출력\n",
    "print(classification_report(y_test, y_pred_best_rf))\n",
    "print(confusion_matrix(y_test, y_pred_best_rf))"
   ]
  },
  {
   "cell_type": "markdown",
   "metadata": {
    "id": "QRDME-cwwqHl"
   },
   "source": [
    "## 필요성 최종모델"
   ]
  },
  {
   "cell_type": "markdown",
   "metadata": {
    "id": "9cc7A63FYMNj"
   },
   "source": [
    "- best_params : max_depth = 3, random_state = 42, n_estimators=121"
   ]
  },
  {
   "cell_type": "code",
   "execution_count": 67,
   "metadata": {
    "colab": {
     "base_uri": "https://localhost:8080/"
    },
    "executionInfo": {
     "elapsed": 392,
     "status": "ok",
     "timestamp": 1720501322669,
     "user": {
      "displayName": "정성욱",
      "userId": "13921569270382965567"
     },
     "user_tz": -540
    },
    "id": "gAYxgsRNww55",
    "outputId": "4620dd23-0743-4f87-e2d9-09ea0f2f61ba"
   },
   "outputs": [
    {
     "name": "stdout",
     "output_type": "stream",
     "text": [
      "              precision    recall  f1-score   support\n",
      "\n",
      "           0       0.40      0.44      0.42         9\n",
      "           1       0.84      0.82      0.83        33\n",
      "\n",
      "    accuracy                           0.74        42\n",
      "   macro avg       0.62      0.63      0.63        42\n",
      "weighted avg       0.75      0.74      0.74        42\n",
      "\n",
      "[[ 4  5]\n",
      " [ 6 27]]\n"
     ]
    }
   ],
   "source": [
    "import numpy as np\n",
    "import pandas as pd\n",
    "from sklearn.model_selection import train_test_split, cross_val_score\n",
    "from sklearn.metrics import classification_report, confusion_matrix\n",
    "from sklearn.preprocessing import StandardScaler\n",
    "from sklearn.pipeline import Pipeline\n",
    "from sklearn.ensemble import RandomForestClassifier\n",
    "\n",
    "X = necessity_df.drop(columns=['동', 'is_forest'])\n",
    "y = necessity_df.loc[:, 'is_forest']\n",
    "\n",
    "X_train, X_test, y_train, y_test = train_test_split(X, y, test_size=0.2, random_state=24, stratify=y)\n",
    "\n",
    "scaler = StandardScaler()\n",
    "X_train_scaled = scaler.fit_transform(X_train)\n",
    "X_test_scaled = scaler.transform(X_test)\n",
    "\n",
    "# 클래스 가중치 계산\n",
    "class_weights = compute_class_weight(class_weight='balanced', classes=np.unique(y_train), y=y_train)\n",
    "class_weights_dict = {i : class_weights[i] for i in range(len(class_weights))}\n",
    "\n",
    "necessity_model = RandomForestClassifier(class_weight=class_weights_dict,n_estimators=121, max_depth=3, random_state=42)\n",
    "necessity_model.fit(X_train_scaled, y_train)\n",
    "y_pred_necessity = necessity_model.predict(X_test_scaled)\n",
    "\n",
    "# 평가 결과 출력\n",
    "print(classification_report(y_test, y_pred_necessity))\n",
    "print(confusion_matrix(y_test, y_pred_necessity))"
   ]
  },
  {
   "cell_type": "code",
   "execution_count": 68,
   "metadata": {
    "colab": {
     "base_uri": "https://localhost:8080/"
    },
    "executionInfo": {
     "elapsed": 863,
     "status": "ok",
     "timestamp": 1720501325613,
     "user": {
      "displayName": "정성욱",
      "userId": "13921569270382965567"
     },
     "user_tz": -540
    },
    "id": "cksmeF8oYLJx",
    "outputId": "9e66292f-04c9-400f-dd2e-03c167305d15"
   },
   "outputs": [
    {
     "name": "stdout",
     "output_type": "stream",
     "text": [
      "필요성: 86.78%\n",
      "필요성: 57.02%\n",
      "필요성: 62.81%\n",
      "필요성: 73.55%\n",
      "필요성: 80.17%\n",
      "필요성: 81.82%\n",
      "필요성: 47.93%\n",
      "필요성: 91.74%\n",
      "필요성: 61.98%\n",
      "필요성: 80.17%\n",
      "필요성: 79.34%\n",
      "필요성: 80.17%\n",
      "필요성: 61.98%\n",
      "필요성: 75.21%\n",
      "필요성: 61.98%\n",
      "필요성: 27.27%\n",
      "필요성: 57.02%\n",
      "필요성: 57.02%\n",
      "필요성: 61.98%\n",
      "필요성: 5.79%\n",
      "필요성: 27.27%\n",
      "필요성: 34.71%\n",
      "필요성: 66.94%\n",
      "필요성: 4.13%\n",
      "필요성: 61.98%\n",
      "필요성: 57.02%\n",
      "필요성: 36.36%\n",
      "필요성: 58.68%\n",
      "필요성: 34.71%\n",
      "필요성: 78.51%\n",
      "필요성: 63.64%\n",
      "필요성: 84.3%\n",
      "필요성: 63.64%\n",
      "필요성: 47.93%\n",
      "필요성: 78.51%\n",
      "필요성: 4.13%\n",
      "필요성: 66.12%\n",
      "필요성: 67.77%\n",
      "필요성: 47.93%\n",
      "필요성: 50.41%\n",
      "필요성: 4.13%\n",
      "필요성: 5.79%\n"
     ]
    }
   ],
   "source": [
    "# 각 트리의 예측값을 확인\n",
    "predictions = []\n",
    "for test in X_test_scaled:\n",
    "    predictions.append(np.array([tree.predict([test]) for tree in necessity_model.estimators_]))\n",
    "\n",
    "li_necess = []\n",
    "# 0과 1의 개수 세기\n",
    "for prediction in predictions:\n",
    "    num_ones = np.sum(prediction == 1)\n",
    "    print(f\"필요성: {round(num_ones / 121 * 100, 2)}%\")\n",
    "    li_necess.append(round(num_ones / 121 * 100, 2))"
   ]
  },
  {
   "cell_type": "code",
   "execution_count": 69,
   "metadata": {
    "colab": {
     "base_uri": "https://localhost:8080/",
     "height": 206
    },
    "executionInfo": {
     "elapsed": 6,
     "status": "ok",
     "timestamp": 1720501328350,
     "user": {
      "displayName": "정성욱",
      "userId": "13921569270382965567"
     },
     "user_tz": -540
    },
    "id": "lV890_lMy_YY",
    "outputId": "40c49900-8d1f-4e48-dfa5-9bd86323d978"
   },
   "outputs": [
    {
     "data": {
      "text/html": [
       "<div>\n",
       "<style scoped>\n",
       "    .dataframe tbody tr th:only-of-type {\n",
       "        vertical-align: middle;\n",
       "    }\n",
       "\n",
       "    .dataframe tbody tr th {\n",
       "        vertical-align: top;\n",
       "    }\n",
       "\n",
       "    .dataframe thead th {\n",
       "        text-align: right;\n",
       "    }\n",
       "</style>\n",
       "<table border=\"1\" class=\"dataframe\">\n",
       "  <thead>\n",
       "    <tr style=\"text-align: right;\">\n",
       "      <th></th>\n",
       "      <th>compatibility</th>\n",
       "      <th>necessity</th>\n",
       "      <th>actual</th>\n",
       "    </tr>\n",
       "  </thead>\n",
       "  <tbody>\n",
       "    <tr>\n",
       "      <th>125</th>\n",
       "      <td>92.59</td>\n",
       "      <td>86.78</td>\n",
       "      <td>1</td>\n",
       "    </tr>\n",
       "    <tr>\n",
       "      <th>34</th>\n",
       "      <td>77.78</td>\n",
       "      <td>57.02</td>\n",
       "      <td>1</td>\n",
       "    </tr>\n",
       "    <tr>\n",
       "      <th>113</th>\n",
       "      <td>79.63</td>\n",
       "      <td>62.81</td>\n",
       "      <td>1</td>\n",
       "    </tr>\n",
       "    <tr>\n",
       "      <th>198</th>\n",
       "      <td>55.56</td>\n",
       "      <td>73.55</td>\n",
       "      <td>0</td>\n",
       "    </tr>\n",
       "    <tr>\n",
       "      <th>185</th>\n",
       "      <td>100.00</td>\n",
       "      <td>80.17</td>\n",
       "      <td>0</td>\n",
       "    </tr>\n",
       "  </tbody>\n",
       "</table>\n",
       "</div>"
      ],
      "text/plain": [
       "     compatibility  necessity  actual\n",
       "125          92.59      86.78       1\n",
       "34           77.78      57.02       1\n",
       "113          79.63      62.81       1\n",
       "198          55.56      73.55       0\n",
       "185         100.00      80.17       0"
      ]
     },
     "execution_count": 69,
     "metadata": {},
     "output_type": "execute_result"
    }
   ],
   "source": [
    "result_df = pd.DataFrame({'compatibility': li_comp, 'necessity': li_necess, 'actual': y_test})\n",
    "result_df.head()"
   ]
  },
  {
   "cell_type": "code",
   "execution_count": 70,
   "metadata": {
    "colab": {
     "base_uri": "https://localhost:8080/",
     "height": 850
    },
    "executionInfo": {
     "elapsed": 487,
     "status": "ok",
     "timestamp": 1720501346231,
     "user": {
      "displayName": "정성욱",
      "userId": "13921569270382965567"
     },
     "user_tz": -540
    },
    "id": "gTjXx0P1zNA_",
    "outputId": "4d971add-161c-4ffe-dd27-6a7febcdbe82",
    "tags": []
   },
   "outputs": [
    {
     "data": {
      "image/png": "[encoded data removed]",
      "text/plain": [
       "<Figure size 1000x1000 with 1 Axes>"
      ]
     },
     "metadata": {},
     "output_type": "display_data"
    }
   ],
   "source": [
    "import matplotlib.pyplot as plt\n",
    "import seaborn as sns\n",
    "\n",
    "plt.figure(figsize=(10, 10))\n",
    "sns.scatterplot(x='compatibility', y='necessity', data=result_df, hue='actual')\n",
    "plt.axhline(y=50, linewidth=1, color='black')\n",
    "plt.axvline(x=50, linewidth=1, color='black')\n",
    "plt.show()"
   ]
  }
 ],
 "metadata": {
  "colab": {
   "authorship_tag": "ABX9TyPCnveySkLJ2U+pTZH67BEH",
   "collapsed_sections": [
    "rwTBV1GM2-UB",
    "9Rtog4lYFwG_"
   ],
   "provenance": []
  },
  "kernelspec": {
   "display_name": "Python 3 (ipykernel)",
   "language": "python",
   "name": "python3"
  },
  "language_info": {
   "codemirror_mode": {
    "name": "ipython",
    "version": 3
   },
   "file_extension": ".py",
   "mimetype": "text/x-python",
   "name": "python",
   "nbconvert_exporter": "python",
   "pygments_lexer": "ipython3",
   "version": "3.11.5"
  }
 },
 "nbformat": 4,
 "nbformat_minor": 4
}
