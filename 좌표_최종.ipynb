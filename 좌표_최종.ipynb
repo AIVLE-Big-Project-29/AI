{
 "cells": [
  {
   "cell_type": "code",
   "execution_count": 1,
   "id": "a19797a7-dc6f-451a-9554-97f3e5db9146",
   "metadata": {
    "tags": []
   },
   "outputs": [],
   "source": [
    "import pandas as pd\n",
    "import numpy as np"
   ]
  },
  {
   "cell_type": "code",
   "execution_count": 2,
   "id": "c2502df0-ed53-49aa-afb4-32a9c88175fa",
   "metadata": {
    "tags": []
   },
   "outputs": [
    {
     "data": {
      "text/html": [
       "<div>\n",
       "<style scoped>\n",
       "    .dataframe tbody tr th:only-of-type {\n",
       "        vertical-align: middle;\n",
       "    }\n",
       "\n",
       "    .dataframe tbody tr th {\n",
       "        vertical-align: top;\n",
       "    }\n",
       "\n",
       "    .dataframe thead th {\n",
       "        text-align: right;\n",
       "    }\n",
       "</style>\n",
       "<table border=\"1\" class=\"dataframe\">\n",
       "  <thead>\n",
       "    <tr style=\"text-align: right;\">\n",
       "      <th></th>\n",
       "      <th>주소</th>\n",
       "      <th>위도</th>\n",
       "      <th>경도</th>\n",
       "    </tr>\n",
       "  </thead>\n",
       "  <tbody>\n",
       "    <tr>\n",
       "      <th>0</th>\n",
       "      <td>강원도</td>\n",
       "      <td>37.860367</td>\n",
       "      <td>128.311526</td>\n",
       "    </tr>\n",
       "    <tr>\n",
       "      <th>1</th>\n",
       "      <td>강원도 양양군</td>\n",
       "      <td>38.075493</td>\n",
       "      <td>128.619145</td>\n",
       "    </tr>\n",
       "    <tr>\n",
       "      <th>2</th>\n",
       "      <td>강원도 양양군 강현면</td>\n",
       "      <td>38.149940</td>\n",
       "      <td>128.607587</td>\n",
       "    </tr>\n",
       "    <tr>\n",
       "      <th>3</th>\n",
       "      <td>강원도 양양군 강현면 물갑리</td>\n",
       "      <td>38.117600</td>\n",
       "      <td>128.523500</td>\n",
       "    </tr>\n",
       "    <tr>\n",
       "      <th>4</th>\n",
       "      <td>강원도 양양군 강현면 적은리</td>\n",
       "      <td>38.121732</td>\n",
       "      <td>128.596812</td>\n",
       "    </tr>\n",
       "  </tbody>\n",
       "</table>\n",
       "</div>"
      ],
      "text/plain": [
       "                주소         위도          경도\n",
       "0              강원도  37.860367  128.311526\n",
       "1          강원도 양양군  38.075493  128.619145\n",
       "2      강원도 양양군 강현면  38.149940  128.607587\n",
       "3  강원도 양양군 강현면 물갑리  38.117600  128.523500\n",
       "4  강원도 양양군 강현면 적은리  38.121732  128.596812"
      ]
     },
     "execution_count": 2,
     "metadata": {},
     "output_type": "execute_result"
    }
   ],
   "source": [
    "adr = pd.read_excel('전국_경위도_좌표_데이터.xlsx')\n",
    "adr.head()"
   ]
  },
  {
   "cell_type": "code",
   "execution_count": 3,
   "id": "a959627c-df84-4842-b205-c8ec423a8c48",
   "metadata": {
    "tags": []
   },
   "outputs": [
    {
     "name": "stdout",
     "output_type": "stream",
     "text": [
      "<class 'pandas.core.frame.DataFrame'>\n",
      "RangeIndex: 21811 entries, 0 to 21810\n",
      "Data columns (total 3 columns):\n",
      " #   Column  Non-Null Count  Dtype  \n",
      "---  ------  --------------  -----  \n",
      " 0   주소      21811 non-null  object \n",
      " 1   위도      21811 non-null  float64\n",
      " 2   경도      21811 non-null  float64\n",
      "dtypes: float64(2), object(1)\n",
      "memory usage: 511.3+ KB\n"
     ]
    }
   ],
   "source": [
    "adr.info()"
   ]
  },
  {
   "cell_type": "code",
   "execution_count": 4,
   "id": "38d954e4-b89f-4328-80ce-4b77035e9d5b",
   "metadata": {
    "tags": []
   },
   "outputs": [
    {
     "data": {
      "text/plain": [
       "주소    0\n",
       "위도    0\n",
       "경도    0\n",
       "dtype: int64"
      ]
     },
     "execution_count": 4,
     "metadata": {},
     "output_type": "execute_result"
    }
   ],
   "source": [
    "adr.isna().sum()"
   ]
  },
  {
   "cell_type": "code",
   "execution_count": 6,
   "id": "cf9c2f3e-7d66-4b47-8ac7-9c0288d6c2ff",
   "metadata": {
    "tags": []
   },
   "outputs": [
    {
     "data": {
      "text/plain": [
       "0                         강원도\n",
       "1                     강원도 양양군\n",
       "2                 강원도 양양군 강현면\n",
       "3             강원도 양양군 강현면 물갑리\n",
       "4             강원도 양양군 강현면 적은리\n",
       "                 ...         \n",
       "21806    충청북도 청주시 상당구 낭성면 이목리\n",
       "21807    충청북도 청주시 상당구 낭성면 호정리\n",
       "21808    충청북도 청주시 상당구 낭성면 추정리\n",
       "21809    충청북도 청주시 상당구 낭성면 귀래리\n",
       "21810    충청북도 청주시 상당구 낭성면 관정리\n",
       "Name: 주소, Length: 21811, dtype: object"
      ]
     },
     "execution_count": 6,
     "metadata": {},
     "output_type": "execute_result"
    }
   ],
   "source": [
    "adr['주소']"
   ]
  },
  {
   "cell_type": "code",
   "execution_count": 7,
   "id": "efb10bd5-e4b7-462f-aaa1-5ccc9b072261",
   "metadata": {
    "tags": []
   },
   "outputs": [
    {
     "name": "stdout",
     "output_type": "stream",
     "text": [
      "                     주소         위도          경도   시/도 시/군/구 읍/면/동\n",
      "0                   강원도  37.860367  128.311526   강원도  None  None\n",
      "1               강원도 양양군  38.075493  128.619145   강원도   양양군  None\n",
      "2           강원도 양양군 강현면  38.149940  128.607587   강원도   양양군   강현면\n",
      "25          강원도 양양군 현남면  37.969226  128.759488   강원도   양양군   현남면\n",
      "47          강원도 양양군 현북면  38.018954  128.723115   강원도   양양군   현북면\n",
      "...                 ...        ...         ...   ...   ...   ...\n",
      "21722  충청북도 청주시 상당구 문의면  36.517767  127.496200  충청북도   상당구   문의면\n",
      "21744  충청북도 청주시 상당구 남일면  36.586965  127.509625  충청북도   상당구   남일면\n",
      "21757  충청북도 청주시 상당구 가덕면  36.553560  127.548807  충청북도   상당구   가덕면\n",
      "21773  충청북도 청주시 상당구 미원면  36.636174  127.658375  충청북도   상당구   미원면\n",
      "21798  충청북도 청주시 상당구 낭성면  36.622724  127.603988  충청북도   상당구   낭성면\n",
      "\n",
      "[6756 rows x 6 columns]\n"
     ]
    }
   ],
   "source": [
    "# '시/도' 열 생성\n",
    "adr.loc[:, '시/도'] = adr['주소'].str.split().str[0]\n",
    "\n",
    "# '시/도' 열에서 '도', '광역시', '특별시', '특별자치도'로 끝나는지 확인\n",
    "adr.loc[:, '시/도'] = adr['시/도'].apply(lambda x: x if x.endswith(('도', '광역시', '특별시', '특별자치도')) else None)\n",
    "\n",
    "# '시', '군', '구'로 끝나는 부분을 추출하여 '시/군/구' 열에 저장\n",
    "def extract_sigungugu(address):\n",
    "    parts = address.split()\n",
    "    for part in reversed(parts):  # 끝에서부터 확인\n",
    "        if part.endswith(('시', '군', '구')) and part not in ['광역시', '특별시', '특별자치시']:\n",
    "            return part\n",
    "    return None\n",
    "\n",
    "adr.loc[:, '시/군/구'] = adr['주소'].apply(extract_sigungugu)\n",
    "\n",
    "# '읍', '면', '동'으로 끝나는 부분을 추출하여 '읍/면/동' 열에 저장\n",
    "def extract_eupmyeondong(address):\n",
    "    parts = address.split()\n",
    "    for part in reversed(parts):  # 끝에서부터 확인\n",
    "        if part.endswith(('읍', '면', '동', '가')):\n",
    "            return part\n",
    "    return None\n",
    "\n",
    "adr.loc[:, '읍/면/동'] = adr['주소'].apply(extract_eupmyeondong)\n",
    "\n",
    "# '리'와 '출장'으로 끝나는 주소를 제거\n",
    "adr = adr[~adr['주소'].str.endswith(('리', '출장', ')'))]\n",
    "\n",
    "print(adr)"
   ]
  },
  {
   "cell_type": "code",
   "execution_count": 8,
   "id": "c4c28cf8-ee1c-4cc8-bc79-7e32ba0850d3",
   "metadata": {
    "tags": []
   },
   "outputs": [],
   "source": [
    "adr.to_excel('전국_좌표데이터_최종.xlsx', index=False)"
   ]
  },
  {
   "cell_type": "code",
   "execution_count": null,
   "id": "e96f3234-4d1b-4bad-994e-2b64dc0b41d7",
   "metadata": {},
   "outputs": [],
   "source": []
  }
 ],
 "metadata": {
  "kernelspec": {
   "display_name": "Python 3 (ipykernel)",
   "language": "python",
   "name": "python3"
  },
  "language_info": {
   "codemirror_mode": {
    "name": "ipython",
    "version": 3
   },
   "file_extension": ".py",
   "mimetype": "text/x-python",
   "name": "python",
   "nbconvert_exporter": "python",
   "pygments_lexer": "ipython3",
   "version": "3.11.5"
  }
 },
 "nbformat": 4,
 "nbformat_minor": 5
}
