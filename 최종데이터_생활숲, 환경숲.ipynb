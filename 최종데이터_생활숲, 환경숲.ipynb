{
 "cells": [
  {
   "cell_type": "code",
   "execution_count": 1,
   "id": "2f753e27-f06c-41b6-ad42-23c5cd5cfa10",
   "metadata": {
    "tags": []
   },
   "outputs": [],
   "source": [
    "# 필요 라이브러리 정리\n",
    "import pandas as pd\n",
    "import numpy as np\n",
    "import matplotlib.pyplot as plt\n",
    "import seaborn as sns\n",
    "import joblib\n",
    "\n",
    "from sklearn.model_selection import GridSearchCV, train_test_split, cross_val_score\n",
    "from sklearn.preprocessing import MinMaxScaler, StandardScaler\n",
    "from sklearn.ensemble import RandomForestClassifier\n",
    "from sklearn.metrics import classification_report, confusion_matrix\n",
    "from sklearn.pipeline import Pipeline\n",
    "from sklearn.utils.class_weight import compute_class_weight\n",
    "\n",
    "# 경고 무시\n",
    "import warnings\n",
    "warnings.filterwarnings(\"ignore\")\n",
    "\n",
    "# 한글 폰트 깨짐 없앰\n",
    "plt.rc('font', family='Malgun Gothic')\n",
    "plt.rc('axes', unicode_minus=False)"
   ]
  },
  {
   "cell_type": "markdown",
   "id": "2d683908-9b88-46de-a11f-e83bde627a3b",
   "metadata": {},
   "source": [
    "# 생활숲"
   ]
  },
  {
   "cell_type": "code",
   "execution_count": 2,
   "id": "9bf1a4f3-5167-4234-83f0-516fae03d2bc",
   "metadata": {
    "tags": []
   },
   "outputs": [
    {
     "name": "stdout",
     "output_type": "stream",
     "text": [
      "              precision    recall  f1-score   support\n",
      "\n",
      "           0       0.67      0.43      0.52        14\n",
      "           1       0.76      0.89      0.82        28\n",
      "\n",
      "    accuracy                           0.74        42\n",
      "   macro avg       0.71      0.66      0.67        42\n",
      "weighted avg       0.73      0.74      0.72        42\n",
      "\n",
      "[[ 6  8]\n",
      " [ 3 25]]\n"
     ]
    }
   ],
   "source": [
    "# 통합데이터_생활숲타겟.xlsx을 생활숲에 저장\n",
    "생활숲 = pd.read_excel('통합데이터_생활숲타겟.xlsx')\n",
    "생활숲 = 생활숲.drop(columns= '동')\n",
    "\n",
    "# X, y로 생활숲을 나눔\n",
    "X = 생활숲.drop(columns=['target'])\n",
    "y = 생활숲.loc[:, 'target']\n",
    "\n",
    "# train_test_split\n",
    "X_train, X_test, y_train, y_test = train_test_split(X, y, test_size=0.2, random_state=24, stratify=y)\n",
    "\n",
    "# StandardScaler 사용\n",
    "life_scaler = StandardScaler()\n",
    "X_train_scaled = life_scaler.fit_transform(X_train)\n",
    "X_test_scaled = life_scaler.transform(X_test)\n",
    "\n",
    "# 클래스 가중치 계산\n",
    "class_weights = compute_class_weight(class_weight='balanced', classes=np.unique(y_train), y=y_train)\n",
    "class_weights_dict = {i : class_weights[i] for i in range(len(class_weights))}\n",
    "\n",
    "# RandomForestClassifier 사용\n",
    "life_model = RandomForestClassifier(class_weight=class_weights_dict, max_depth=3, n_estimators=100, random_state=24)\n",
    "life_model.fit(X_train_scaled, y_train)\n",
    "y_pred_life = life_model.predict(X_test_scaled)\n",
    "\n",
    "# 평가 결과 출력\n",
    "print(classification_report(y_test, y_pred_life))\n",
    "print(confusion_matrix(y_test, y_pred_life))"
   ]
  },
  {
   "cell_type": "code",
   "execution_count": 3,
   "id": "cc1cf82c-9653-4a71-85ed-e8b344c7350e",
   "metadata": {
    "tags": []
   },
   "outputs": [],
   "source": [
    "## pkl파일로 저장\n",
    "# joblib.dump(life_model, 'life_model.pkl')\n",
    "# joblib.dump(life_scaler, 'life_scaler.pkl')"
   ]
  },
  {
   "cell_type": "markdown",
   "id": "70cdd023-dba3-4ac6-8d29-10ec9f75210b",
   "metadata": {},
   "source": [
    "# 환경숲"
   ]
  },
  {
   "cell_type": "markdown",
   "id": "28ebca39-318d-4f87-96e7-9bec564c32c1",
   "metadata": {},
   "source": [
    "- Fitting 3 folds for each of 24 candidates, totalling 72 fits\n",
    "- 최적의 하이퍼파라미터: {'max_depth': 5, 'max_features': 'sqrt', 'n_estimators': 50}\n",
    "- 최적의 교차 검증 점수 (정확도): 0.6099887766554433"
   ]
  },
  {
   "cell_type": "code",
   "execution_count": 4,
   "id": "1fbeddff-b0a0-4e3d-a01c-f79f9c6f4425",
   "metadata": {
    "tags": []
   },
   "outputs": [
    {
     "ename": "NameError",
     "evalue": "name 'accuracy_score' is not defined",
     "output_type": "error",
     "traceback": [
      "\u001b[1;31m---------------------------------------------------------------------------\u001b[0m",
      "\u001b[1;31mNameError\u001b[0m                                 Traceback (most recent call last)",
      "Cell \u001b[1;32mIn[4], line 45\u001b[0m\n\u001b[0;32m     41\u001b[0m rfc_lst\u001b[38;5;241m.\u001b[39mfit(X_train_scaled, y_train)\n\u001b[0;32m     43\u001b[0m y_pred_lst \u001b[38;5;241m=\u001b[39m rfc_lst\u001b[38;5;241m.\u001b[39mpredict(X_test_scaled)\n\u001b[1;32m---> 45\u001b[0m \u001b[38;5;28mprint\u001b[39m(\u001b[38;5;124m'\u001b[39m\u001b[38;5;124m환경숲 정확도: \u001b[39m\u001b[38;5;124m'\u001b[39m, accuracy_score(y_test, y_pred_lst))\n\u001b[0;32m     46\u001b[0m \u001b[38;5;28mprint\u001b[39m(\u001b[38;5;124m'\u001b[39m\u001b[38;5;124mConfusion Matrics: \u001b[39m\u001b[38;5;130;01m\\n\u001b[39;00m\u001b[38;5;124m'\u001b[39m, confusion_matrix(y_test, y_pred_lst))\n\u001b[0;32m     48\u001b[0m \u001b[38;5;66;03m# confusion_matrix 시각화\u001b[39;00m\n",
      "\u001b[1;31mNameError\u001b[0m: name 'accuracy_score' is not defined"
     ]
    }
   ],
   "source": [
    "# 통합데이터_환경숲타겟.xlsx 파일을 환경숲에 저장\n",
    "환경숲 = pd.read_excel('통합데이터_환경숲타겟.xlsx')\n",
    "환경숲 = 환경숲.drop('동', axis=1)\n",
    "\n",
    "# 환경숲의 지목데이터의 중요도를 확인하여 상위 5개 데이터만 1로 설정함\n",
    "# 우리나라 토지 지목 리스트를 columns_to_convert에 저장\n",
    "columns_to_convert = [\n",
    "    \"전\", \"답\", \"과수원\", \"목장용지\", \"임야\", \"염전\", \"대\", \"공장용지\", \"학교용지\", \"주차장\",\n",
    "    \"주유소용지\", \"창고용지\", \"도로\", \"철도용지\", \"하천\", \"제방\", \"구거\", \"유지\", \"양어장\", \"수도용지\",\n",
    "    \"공원\", \"체육용지\", \"유원지\", \"종교용지\", \"사적지\", \"묘지\", \"잡종지\", \"광천지\"\n",
    "                    ]\n",
    "\n",
    "# 각 행에 대해 상위 5개 값만 1로 설정하고 나머지는 0으로 설정\n",
    "def top_n_to_one(row, n):\n",
    "    row_copy = row.copy()\n",
    "    top_n_indices = row[columns_to_convert].nlargest(n).index\n",
    "    row_copy[columns_to_convert] = 0  # Initialize all to 0\n",
    "    row_copy[top_n_indices] = 1  # Set top N to 1\n",
    "    return row_copy\n",
    "\n",
    "환경숲 = 환경숲.apply(lambda row: top_n_to_one(row, 5), axis=1)\n",
    "\n",
    "X = 환경숲.drop('target', axis=1)\n",
    "y = 환경숲['target']\n",
    "\n",
    "X_train, X_test, y_train, y_test = train_test_split(X, y, \n",
    "                                                    test_size=0.2, \n",
    "                                                    stratify=y,   # y클래스 비율에 맞게 분리\n",
    "                                                    random_state=42)\n",
    "\n",
    "# MinMaxScaler 사용\n",
    "scaler = MinMaxScaler()\n",
    "X_train_scaled = scaler.fit_transform(X_train)\n",
    "X_test_scaled = scaler.transform(X_test)\n",
    "\n",
    "# RandomForestClassifier 사용\n",
    "rfc_lst = RandomForestClassifier(random_state=42, \n",
    "                                 max_depth=5, \n",
    "                                 n_estimators=50, \n",
    "                                 max_features='sqrt')\n",
    "rfc_lst.fit(X_train_scaled, y_train)\n",
    "\n",
    "y_pred_lst = rfc_lst.predict(X_test_scaled)\n",
    "\n",
    "print('환경숲 정확도: ', accuracy_score(y_test, y_pred_lst))\n",
    "print('Confusion Matrics: \\n', confusion_matrix(y_test, y_pred_lst))\n",
    "\n",
    "# confusion_matrix 시각화\n",
    "plt.figure(figsize=(5, 3))\n",
    "sns.heatmap(confusion_matrix(y_test, y_pred_lst), annot=True, cmap='Blues', cbar=False, annot_kws={'size': 15})\n",
    "plt.title('Confusion Matrix - Test Data')\n",
    "plt.xlabel('Predicted Labels')\n",
    "plt.ylabel('True Labels')\n",
    "plt.show()\n",
    "\n",
    "# classification_report\n",
    "print(\"\\nClassification Report\")\n",
    "print(classification_report(y_test, y_pred_lst))"
   ]
  },
  {
   "cell_type": "code",
   "execution_count": null,
   "id": "85b5623b-c58a-4603-89ec-47d84894f9fd",
   "metadata": {
    "tags": []
   },
   "outputs": [],
   "source": [
    "## pkl파일 저장\n",
    "# joblib.dump(scaler, 'env_scaler.pkl')\n",
    "# joblib.dump(rfc_lst, 'env_model.pkl')"
   ]
  },
  {
   "cell_type": "code",
   "execution_count": null,
   "id": "c59cccd7-bf6f-4b74-8482-1168cb36694d",
   "metadata": {},
   "outputs": [],
   "source": []
  }
 ],
 "metadata": {
  "kernelspec": {
   "display_name": "Python 3 (ipykernel)",
   "language": "python",
   "name": "python3"
  },
  "language_info": {
   "codemirror_mode": {
    "name": "ipython",
    "version": 3
   },
   "file_extension": ".py",
   "mimetype": "text/x-python",
   "name": "python",
   "nbconvert_exporter": "python",
   "pygments_lexer": "ipython3",
   "version": "3.11.5"
  }
 },
 "nbformat": 4,
 "nbformat_minor": 5
}
